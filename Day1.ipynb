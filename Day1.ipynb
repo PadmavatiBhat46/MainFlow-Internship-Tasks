{
  "cells": [
    {
      "cell_type": "markdown",
      "id": "de407b9d",
      "metadata": {
        "id": "de407b9d"
      },
      "source": [
        "# 27/6/23 day1 This is heading"
      ]
    },
    {
      "cell_type": "markdown",
      "id": "2be1869e",
      "metadata": {
        "id": "2be1869e"
      },
      "source": [
        "This is Python3"
      ]
    },
    {
      "cell_type": "markdown",
      "id": "8fb02f2b",
      "metadata": {
        "id": "8fb02f2b"
      },
      "source": [
        "## Keyword and identifier"
      ]
    },
    {
      "cell_type": "raw",
      "id": "57c76f01",
      "metadata": {
        "id": "57c76f01"
      },
      "source": [
        "kewords are some reserved words in python which have some meaning associated to it.\n",
        "Identifiers are something which user is going to declare and and provide meaning it.\n",
        "Rules for creating identifiers:\n",
        "*1. We can not use keywords as identifier.\n",
        "*2. Identifies always starts with _ or alphabets.\n",
        "*3. Special characters are not supported."
      ]
    },
    {
      "cell_type": "code",
      "execution_count": null,
      "id": "4aa2b6d1",
      "metadata": {
        "id": "4aa2b6d1",
        "outputId": "4134e7dd-2852-4ddd-ad58-bd08b87b4364"
      },
      "outputs": [
        {
          "ename": "NameError",
          "evalue": "name '_megh' is not defined",
          "output_type": "error",
          "traceback": [
            "\u001b[1;31m---------------------------------------------------------------------------\u001b[0m",
            "\u001b[1;31mNameError\u001b[0m                                 Traceback (most recent call last)",
            "Cell \u001b[1;32mIn[1], line 1\u001b[0m\n\u001b[1;32m----> 1\u001b[0m _megh\u001b[38;5;241m@\u001b[39m\u001b[38;5;241m=\u001b[39m\u001b[38;5;241m10\u001b[39m\n",
            "\u001b[1;31mNameError\u001b[0m: name '_megh' is not defined"
          ]
        }
      ],
      "source": [
        "_megh@=10"
      ]
    },
    {
      "cell_type": "code",
      "execution_count": null,
      "id": "88634d61",
      "metadata": {
        "id": "88634d61"
      },
      "outputs": [],
      "source": [
        "_megha_2=100"
      ]
    },
    {
      "cell_type": "code",
      "execution_count": null,
      "id": "b5e12f3e",
      "metadata": {
        "id": "b5e12f3e",
        "outputId": "11f252b0-5fc9-4240-80c8-ec7fc3a3a20f"
      },
      "outputs": [
        {
          "ename": "SyntaxError",
          "evalue": "invalid decimal literal (3921375335.py, line 1)",
          "output_type": "error",
          "traceback": [
            "\u001b[1;36m  Cell \u001b[1;32mIn[4], line 1\u001b[1;36m\u001b[0m\n\u001b[1;33m    2_var2=70\u001b[0m\n\u001b[1;37m     ^\u001b[0m\n\u001b[1;31mSyntaxError\u001b[0m\u001b[1;31m:\u001b[0m invalid decimal literal\n"
          ]
        }
      ],
      "source": [
        "2_var2=70"
      ]
    },
    {
      "cell_type": "code",
      "execution_count": null,
      "id": "f3a90149",
      "metadata": {
        "id": "f3a90149",
        "outputId": "228422ab-344b-4bec-c9b3-9c8288610abb"
      },
      "outputs": [
        {
          "ename": "SyntaxError",
          "evalue": "invalid syntax (1199368929.py, line 1)",
          "output_type": "error",
          "traceback": [
            "\u001b[1;36m  Cell \u001b[1;32mIn[5], line 1\u001b[1;36m\u001b[0m\n\u001b[1;33m    import=400\u001b[0m\n\u001b[1;37m          ^\u001b[0m\n\u001b[1;31mSyntaxError\u001b[0m\u001b[1;31m:\u001b[0m invalid syntax\n"
          ]
        }
      ],
      "source": [
        "import=400"
      ]
    },
    {
      "cell_type": "raw",
      "id": "7b8defad",
      "metadata": {
        "id": "7b8defad"
      },
      "source": [
        "keyword"
      ]
    },
    {
      "cell_type": "markdown",
      "id": "84af03ee",
      "metadata": {
        "id": "84af03ee"
      },
      "source": [
        "# case sensitivity"
      ]
    },
    {
      "cell_type": "code",
      "execution_count": null,
      "id": "ad896dc7",
      "metadata": {
        "id": "ad896dc7"
      },
      "outputs": [],
      "source": [
        "var=100\n",
        "Var=200"
      ]
    },
    {
      "cell_type": "markdown",
      "id": "a71439c3",
      "metadata": {
        "id": "a71439c3"
      },
      "source": [
        "Python is case sensitive"
      ]
    },
    {
      "cell_type": "code",
      "execution_count": null,
      "id": "c17ce66d",
      "metadata": {
        "id": "c17ce66d",
        "outputId": "c146b161-c07c-425f-d7fe-65a694eaa583"
      },
      "outputs": [
        {
          "ename": "NameError",
          "evalue": "name '_Var3' is not defined",
          "output_type": "error",
          "traceback": [
            "\u001b[1;31m---------------------------------------------------------------------------\u001b[0m",
            "\u001b[1;31mNameError\u001b[0m                                 Traceback (most recent call last)",
            "Cell \u001b[1;32mIn[7], line 2\u001b[0m\n\u001b[0;32m      1\u001b[0m _var3\u001b[38;5;241m=\u001b[39m\u001b[38;5;241m100\u001b[39m\n\u001b[1;32m----> 2\u001b[0m \u001b[43m_Var3\u001b[49m\n",
            "\u001b[1;31mNameError\u001b[0m: name '_Var3' is not defined"
          ]
        }
      ],
      "source": [
        "_var3=100\n",
        "_Var3"
      ]
    },
    {
      "cell_type": "markdown",
      "id": "ef6cc640",
      "metadata": {
        "id": "ef6cc640"
      },
      "source": [
        "because the above two are different in case."
      ]
    },
    {
      "cell_type": "code",
      "execution_count": null,
      "id": "4300854c",
      "metadata": {
        "id": "4300854c",
        "outputId": "bffeffed-3fb2-4460-cadd-cb84579efede"
      },
      "outputs": [
        {
          "data": {
            "text/plain": [
              "100"
            ]
          },
          "execution_count": 12,
          "metadata": {},
          "output_type": "execute_result"
        }
      ],
      "source": [
        "_var3=100  #is used for the statement/comment.\n",
        "_var3  #each line in python is called statement instead of LOC"
      ]
    },
    {
      "cell_type": "markdown",
      "id": "45e5c222",
      "metadata": {
        "id": "45e5c222"
      },
      "source": [
        "as the case is same the answer came"
      ]
    },
    {
      "cell_type": "raw",
      "id": "ab872afc",
      "metadata": {
        "id": "ab872afc"
      },
      "source": [
        "Once you declaire identifier then you have to call that identifier in that same case only"
      ]
    },
    {
      "cell_type": "markdown",
      "id": "8552b2cf",
      "metadata": {
        "id": "8552b2cf"
      },
      "source": [
        "# What is Python?"
      ]
    },
    {
      "cell_type": "raw",
      "id": "e50fc58d",
      "metadata": {
        "id": "e50fc58d"
      },
      "source": [
        "*Python isa programming language\n",
        "*high level general purpose\n",
        "*Interpreted\n",
        "*It uses C as it's foundation. CPython and version is Python3"
      ]
    },
    {
      "cell_type": "code",
      "execution_count": null,
      "id": "f9dfcf6c",
      "metadata": {
        "id": "f9dfcf6c",
        "outputId": "d39c7378-7730-422e-df83-421481b3ec92"
      },
      "outputs": [
        {
          "data": {
            "text/plain": [
              "'Bangalore'"
            ]
          },
          "execution_count": 24,
          "metadata": {},
          "output_type": "execute_result"
        }
      ],
      "source": [
        "#string\n",
        "my_address = \"Bangalore\"\n",
        "my_address"
      ]
    },
    {
      "cell_type": "code",
      "execution_count": null,
      "id": "ed545b3e",
      "metadata": {
        "id": "ed545b3e",
        "outputId": "4812c92d-793c-49f3-a5bc-c1e47175745f"
      },
      "outputs": [
        {
          "name": "stdout",
          "output_type": "stream",
          "text": [
            "-50\n"
          ]
        }
      ],
      "source": [
        "#integer\n",
        "int_1=-50\n",
        "print(int_1) #print the output"
      ]
    },
    {
      "cell_type": "code",
      "execution_count": null,
      "id": "3792665b",
      "metadata": {
        "id": "3792665b",
        "outputId": "cb7881e3-fd86-4dfe-da49-309e1ff1ace8"
      },
      "outputs": [
        {
          "name": "stdout",
          "output_type": "stream",
          "text": [
            "<class 'int'>\n"
          ]
        }
      ],
      "source": [
        "print(type(int_1)) #(type) is built-in helps in check data type"
      ]
    },
    {
      "cell_type": "code",
      "execution_count": null,
      "id": "e852112f",
      "metadata": {
        "id": "e852112f",
        "outputId": "e68709ac-6087-4242-a903-82ca269c504e"
      },
      "outputs": [
        {
          "name": "stdout",
          "output_type": "stream",
          "text": [
            "40.0\n"
          ]
        }
      ],
      "source": [
        "#float/decimal\n",
        "float_1=40.0\n",
        "print(float_1)"
      ]
    },
    {
      "cell_type": "code",
      "execution_count": null,
      "id": "657936fa",
      "metadata": {
        "id": "657936fa",
        "outputId": "29a74e8e-ec29-402e-d825-96120b49383f"
      },
      "outputs": [
        {
          "name": "stdout",
          "output_type": "stream",
          "text": [
            "<class 'float'>\n"
          ]
        }
      ],
      "source": [
        "print(type(float_1))"
      ]
    },
    {
      "cell_type": "raw",
      "id": "6ddc7755",
      "metadata": {
        "id": "6ddc7755"
      },
      "source": [
        "#String\n",
        "#''or \"\""
      ]
    },
    {
      "cell_type": "code",
      "execution_count": null,
      "id": "50235308",
      "metadata": {
        "id": "50235308"
      },
      "outputs": [],
      "source": [
        "str_1=\"we have a value @20.56\""
      ]
    },
    {
      "cell_type": "code",
      "execution_count": null,
      "id": "1f874d48",
      "metadata": {
        "id": "1f874d48",
        "outputId": "6ef3f691-91e8-4112-cc28-929f4f93b649"
      },
      "outputs": [
        {
          "name": "stdout",
          "output_type": "stream",
          "text": [
            "<class 'str'>\n"
          ]
        }
      ],
      "source": [
        "print(type(str_1))"
      ]
    },
    {
      "cell_type": "code",
      "execution_count": null,
      "id": "75382ab7",
      "metadata": {
        "id": "75382ab7",
        "outputId": "207b9f4f-870a-40cc-ba88-a3a1fcfa2eaa"
      },
      "outputs": [
        {
          "name": "stdout",
          "output_type": "stream",
          "text": [
            "we have a value @20.56\n"
          ]
        }
      ],
      "source": [
        "print(str_1)"
      ]
    },
    {
      "cell_type": "raw",
      "id": "625e1a85",
      "metadata": {
        "id": "625e1a85"
      },
      "source": [
        "boolean- true or false"
      ]
    },
    {
      "cell_type": "code",
      "execution_count": null,
      "id": "9b3c9e4f",
      "metadata": {
        "id": "9b3c9e4f",
        "outputId": "317b554a-0df9-4788-bd4d-ebbba4b66dd9"
      },
      "outputs": [
        {
          "name": "stdout",
          "output_type": "stream",
          "text": [
            "True\n",
            "False\n"
          ]
        }
      ],
      "source": [
        "bool_2=True\n",
        "bool_3=False\n",
        "print(bool_2)\n",
        "print(bool_3)"
      ]
    },
    {
      "cell_type": "code",
      "execution_count": null,
      "id": "8c3baad6",
      "metadata": {
        "id": "8c3baad6",
        "outputId": "999a5127-5ff9-4e24-dda8-0792e5f606d4"
      },
      "outputs": [
        {
          "name": "stdout",
          "output_type": "stream",
          "text": [
            "<class 'bool'>\n"
          ]
        }
      ],
      "source": [
        "print(type(bool_2))"
      ]
    },
    {
      "cell_type": "code",
      "execution_count": null,
      "id": "bb753d45",
      "metadata": {
        "id": "bb753d45",
        "outputId": "aac947d9-6096-4a33-a5ce-6064d244e7e7"
      },
      "outputs": [
        {
          "name": "stdout",
          "output_type": "stream",
          "text": [
            "False\n"
          ]
        }
      ],
      "source": [
        "bool_4=\"\" #without space it is empty string\n",
        "print(bool(bool_4))"
      ]
    },
    {
      "cell_type": "code",
      "execution_count": null,
      "id": "1c9d97ce",
      "metadata": {
        "id": "1c9d97ce",
        "outputId": "2323de3c-2860-4e80-fb1d-6b2d8519a3c7"
      },
      "outputs": [
        {
          "name": "stdout",
          "output_type": "stream",
          "text": [
            "False\n"
          ]
        }
      ],
      "source": [
        "var_1=0\n",
        "print(bool(var_1))"
      ]
    },
    {
      "cell_type": "code",
      "execution_count": null,
      "id": "c5bd2fa8",
      "metadata": {
        "id": "c5bd2fa8",
        "outputId": "761be1e7-1038-4b4a-f0ea-ee09d8f2ed55"
      },
      "outputs": [
        {
          "name": "stdout",
          "output_type": "stream",
          "text": [
            "True\n"
          ]
        }
      ],
      "source": [
        "var_2=30\n",
        "print(bool(var_2))"
      ]
    },
    {
      "cell_type": "code",
      "execution_count": null,
      "id": "391b030a",
      "metadata": {
        "id": "391b030a",
        "outputId": "2a1e84b8-d31f-4c36-e353-2dc47959901b"
      },
      "outputs": [
        {
          "name": "stdout",
          "output_type": "stream",
          "text": [
            "True\n"
          ]
        }
      ],
      "source": [
        "var_3=\"  \" #spaces in between are some value.\n",
        "print(bool(var_3))"
      ]
    },
    {
      "cell_type": "code",
      "execution_count": null,
      "id": "ff2a88b8",
      "metadata": {
        "id": "ff2a88b8",
        "outputId": "e8f08bd5-eb69-48bd-fdd8-b1016db1f363"
      },
      "outputs": [
        {
          "data": {
            "text/plain": [
              "0"
            ]
          },
          "execution_count": 39,
          "metadata": {},
          "output_type": "execute_result"
        }
      ],
      "source": [
        "var_1"
      ]
    },
    {
      "cell_type": "code",
      "execution_count": null,
      "id": "5b409dbb",
      "metadata": {
        "id": "5b409dbb",
        "outputId": "7c0877b2-6eb0-4111-9008-02dc506e040c"
      },
      "outputs": [
        {
          "name": "stdout",
          "output_type": "stream",
          "text": [
            "<class 'int'>\n"
          ]
        }
      ],
      "source": [
        "print(type(var_1))"
      ]
    },
    {
      "cell_type": "code",
      "execution_count": null,
      "id": "3317534f",
      "metadata": {
        "id": "3317534f",
        "outputId": "16617bea-dfc4-4869-e4a8-97f511f8812c"
      },
      "outputs": [
        {
          "name": "stdout",
          "output_type": "stream",
          "text": [
            "10\n"
          ]
        }
      ],
      "source": [
        "x,y,z,a=10,20.4,\"Hi I am A String\",True\n",
        "print(x)"
      ]
    },
    {
      "cell_type": "code",
      "execution_count": null,
      "id": "abff1991",
      "metadata": {
        "id": "abff1991",
        "outputId": "9bea1600-eaaf-438b-cf28-27602056d960"
      },
      "outputs": [
        {
          "name": "stdout",
          "output_type": "stream",
          "text": [
            "20.4\n",
            "<class 'str'>\n",
            "<class 'bool'>\n"
          ]
        }
      ],
      "source": [
        "print(y)\n",
        "print(type(z))\n",
        "print(type(a))"
      ]
    },
    {
      "cell_type": "code",
      "execution_count": null,
      "id": "42eba622",
      "metadata": {
        "id": "42eba622",
        "outputId": "a4d97db5-6eb5-4d8e-dfda-4196f6fab369"
      },
      "outputs": [
        {
          "name": "stdout",
          "output_type": "stream",
          "text": [
            "hi\n"
          ]
        }
      ],
      "source": [
        "print('hi')"
      ]
    },
    {
      "cell_type": "code",
      "execution_count": null,
      "id": "b12326ca",
      "metadata": {
        "id": "b12326ca"
      },
      "outputs": [],
      "source": [
        "#shift+enter \"running and adding cell at a time\""
      ]
    },
    {
      "cell_type": "markdown",
      "id": "e95762b1",
      "metadata": {
        "id": "e95762b1"
      },
      "source": [
        "# Non Primitive data types"
      ]
    },
    {
      "cell_type": "raw",
      "id": "74ed7c72",
      "metadata": {
        "id": "74ed7c72"
      },
      "source": [
        "list\n",
        "tuple\n",
        "set\n",
        "dictionary"
      ]
    },
    {
      "cell_type": "code",
      "execution_count": null,
      "id": "44f51c18",
      "metadata": {
        "id": "44f51c18",
        "outputId": "f4502aac-8ff3-4226-f601-9026163119be"
      },
      "outputs": [
        {
          "name": "stdout",
          "output_type": "stream",
          "text": [
            "apple\n"
          ]
        }
      ],
      "source": [
        "list_first=[20,30,40.5,False,'apple']\n",
        "print(list_first[4])"
      ]
    },
    {
      "cell_type": "markdown",
      "id": "c6a5ac62",
      "metadata": {
        "id": "c6a5ac62"
      },
      "source": [
        "index position are nothing but the address assigned to the element.\n",
        "The process extracting any particular element using index is called indexing.\n",
        "Two types:\n",
        "Forward- From left to right with 0\n",
        "Backward- right to left"
      ]
    },
    {
      "cell_type": "code",
      "execution_count": null,
      "id": "8046570e",
      "metadata": {
        "id": "8046570e"
      },
      "outputs": [],
      "source": [
        "list_sec=[]  #empty list"
      ]
    },
    {
      "cell_type": "markdown",
      "id": "5bfa1732",
      "metadata": {
        "id": "5bfa1732"
      },
      "source": [
        "Anything which is written inside square-bracket is called list"
      ]
    },
    {
      "cell_type": "code",
      "execution_count": null,
      "id": "75588d6d",
      "metadata": {
        "id": "75588d6d",
        "outputId": "566e9a0b-5f2f-44f1-acfb-8401da920150"
      },
      "outputs": [
        {
          "name": "stdout",
          "output_type": "stream",
          "text": [
            "40.5\n"
          ]
        }
      ],
      "source": [
        "print(list_first[2])"
      ]
    },
    {
      "cell_type": "code",
      "execution_count": null,
      "id": "8ce30f4c",
      "metadata": {
        "id": "8ce30f4c",
        "outputId": "12cb0b7a-e9f5-4362-87bc-0ede8d0a752d"
      },
      "outputs": [
        {
          "name": "stdout",
          "output_type": "stream",
          "text": [
            "mango\n"
          ]
        }
      ],
      "source": [
        "nest= [1,2,3,4,['apple','kiwi','mango'],'abc']\n",
        "print(nest[4][2])"
      ]
    },
    {
      "cell_type": "code",
      "execution_count": null,
      "id": "ff2c4540",
      "metadata": {
        "id": "ff2c4540",
        "outputId": "e1b7c779-954b-4033-f2ff-a7e9ad4bf775"
      },
      "outputs": [
        {
          "name": "stdout",
          "output_type": "stream",
          "text": [
            "abc\n"
          ]
        }
      ],
      "source": [
        "print(nest[5])"
      ]
    },
    {
      "cell_type": "code",
      "execution_count": null,
      "id": "751beb09",
      "metadata": {
        "id": "751beb09",
        "outputId": "d8cb1f0c-fd7b-4c14-88f6-c52cd8761785"
      },
      "outputs": [
        {
          "name": "stdout",
          "output_type": "stream",
          "text": [
            "apple\n"
          ]
        }
      ],
      "source": [
        "print(nest[4][0])"
      ]
    },
    {
      "cell_type": "code",
      "execution_count": null,
      "id": "85002d6f",
      "metadata": {
        "id": "85002d6f",
        "outputId": "1c7d8fd3-6b32-4659-d330-60722bd7efb0"
      },
      "outputs": [
        {
          "name": "stdout",
          "output_type": "stream",
          "text": [
            "69\n",
            "56\n",
            "89\n"
          ]
        }
      ],
      "source": [
        "x=[1,2,3,4,7,80,50,67,47,86,45,38,90,69,8,89,56]\n",
        "print(x[-4])\n",
        "print(x[-1])\n",
        "print(x[-2])"
      ]
    },
    {
      "cell_type": "code",
      "execution_count": null,
      "id": "00630541",
      "metadata": {
        "id": "00630541",
        "outputId": "e9b7414b-70a4-48d7-9389-1af4d64a0eab"
      },
      "outputs": [
        {
          "name": "stdout",
          "output_type": "stream",
          "text": [
            "mango\n"
          ]
        }
      ],
      "source": [
        "print(nest[-2][-1])"
      ]
    },
    {
      "cell_type": "code",
      "execution_count": null,
      "id": "e161e5b5",
      "metadata": {
        "id": "e161e5b5"
      },
      "outputs": [],
      "source": [
        "week=['sun','mon','tue','wed','thu','fri',['sat','sun'], 'June_30',['july_1']]"
      ]
    },
    {
      "cell_type": "code",
      "execution_count": null,
      "id": "11ad6bbe",
      "metadata": {
        "id": "11ad6bbe",
        "outputId": "e4f5350b-85ed-4e2c-c6a9-3e665d076790"
      },
      "outputs": [
        {
          "name": "stdout",
          "output_type": "stream",
          "text": [
            "july_1\n",
            "sun\n",
            "June_30\n",
            "['sat', 'sun']\n",
            "sun\n"
          ]
        }
      ],
      "source": [
        "print(week[-1][0])\n",
        "print(week[0])\n",
        "print(week[-2])\n",
        "print(week[-3])\n",
        "print(week[-3][-1])"
      ]
    },
    {
      "cell_type": "code",
      "execution_count": null,
      "id": "8a6d2875",
      "metadata": {
        "id": "8a6d2875",
        "outputId": "6a86c897-70f6-400f-d7c8-3801282ed510"
      },
      "outputs": [
        {
          "data": {
            "text/plain": [
              "'july_1'"
            ]
          },
          "execution_count": 17,
          "metadata": {},
          "output_type": "execute_result"
        }
      ],
      "source": [
        "week[-1][-1]"
      ]
    },
    {
      "cell_type": "code",
      "execution_count": null,
      "id": "b82a8019",
      "metadata": {
        "id": "b82a8019",
        "outputId": "f0b64e25-e9a0-400b-9aa4-759c8380d8d5"
      },
      "outputs": [
        {
          "name": "stdout",
          "output_type": "stream",
          "text": [
            "Help on class list in module builtins:\n",
            "\n",
            "class list(object)\n",
            " |  list(iterable=(), /)\n",
            " |  \n",
            " |  Built-in mutable sequence.\n",
            " |  \n",
            " |  If no argument is given, the constructor creates a new empty list.\n",
            " |  The argument must be an iterable if specified.\n",
            " |  \n",
            " |  Methods defined here:\n",
            " |  \n",
            " |  __add__(self, value, /)\n",
            " |      Return self+value.\n",
            " |  \n",
            " |  __contains__(self, key, /)\n",
            " |      Return key in self.\n",
            " |  \n",
            " |  __delitem__(self, key, /)\n",
            " |      Delete self[key].\n",
            " |  \n",
            " |  __eq__(self, value, /)\n",
            " |      Return self==value.\n",
            " |  \n",
            " |  __ge__(self, value, /)\n",
            " |      Return self>=value.\n",
            " |  \n",
            " |  __getattribute__(self, name, /)\n",
            " |      Return getattr(self, name).\n",
            " |  \n",
            " |  __getitem__(...)\n",
            " |      x.__getitem__(y) <==> x[y]\n",
            " |  \n",
            " |  __gt__(self, value, /)\n",
            " |      Return self>value.\n",
            " |  \n",
            " |  __iadd__(self, value, /)\n",
            " |      Implement self+=value.\n",
            " |  \n",
            " |  __imul__(self, value, /)\n",
            " |      Implement self*=value.\n",
            " |  \n",
            " |  __init__(self, /, *args, **kwargs)\n",
            " |      Initialize self.  See help(type(self)) for accurate signature.\n",
            " |  \n",
            " |  __iter__(self, /)\n",
            " |      Implement iter(self).\n",
            " |  \n",
            " |  __le__(self, value, /)\n",
            " |      Return self<=value.\n",
            " |  \n",
            " |  __len__(self, /)\n",
            " |      Return len(self).\n",
            " |  \n",
            " |  __lt__(self, value, /)\n",
            " |      Return self<value.\n",
            " |  \n",
            " |  __mul__(self, value, /)\n",
            " |      Return self*value.\n",
            " |  \n",
            " |  __ne__(self, value, /)\n",
            " |      Return self!=value.\n",
            " |  \n",
            " |  __repr__(self, /)\n",
            " |      Return repr(self).\n",
            " |  \n",
            " |  __reversed__(self, /)\n",
            " |      Return a reverse iterator over the list.\n",
            " |  \n",
            " |  __rmul__(self, value, /)\n",
            " |      Return value*self.\n",
            " |  \n",
            " |  __setitem__(self, key, value, /)\n",
            " |      Set self[key] to value.\n",
            " |  \n",
            " |  __sizeof__(self, /)\n",
            " |      Return the size of the list in memory, in bytes.\n",
            " |  \n",
            " |  append(self, object, /)\n",
            " |      Append object to the end of the list.\n",
            " |  \n",
            " |  clear(self, /)\n",
            " |      Remove all items from list.\n",
            " |  \n",
            " |  copy(self, /)\n",
            " |      Return a shallow copy of the list.\n",
            " |  \n",
            " |  count(self, value, /)\n",
            " |      Return number of occurrences of value.\n",
            " |  \n",
            " |  extend(self, iterable, /)\n",
            " |      Extend list by appending elements from the iterable.\n",
            " |  \n",
            " |  index(self, value, start=0, stop=9223372036854775807, /)\n",
            " |      Return first index of value.\n",
            " |      \n",
            " |      Raises ValueError if the value is not present.\n",
            " |  \n",
            " |  insert(self, index, object, /)\n",
            " |      Insert object before index.\n",
            " |  \n",
            " |  pop(self, index=-1, /)\n",
            " |      Remove and return item at index (default last).\n",
            " |      \n",
            " |      Raises IndexError if list is empty or index is out of range.\n",
            " |  \n",
            " |  remove(self, value, /)\n",
            " |      Remove first occurrence of value.\n",
            " |      \n",
            " |      Raises ValueError if the value is not present.\n",
            " |  \n",
            " |  reverse(self, /)\n",
            " |      Reverse *IN PLACE*.\n",
            " |  \n",
            " |  sort(self, /, *, key=None, reverse=False)\n",
            " |      Sort the list in ascending order and return None.\n",
            " |      \n",
            " |      The sort is in-place (i.e. the list itself is modified) and stable (i.e. the\n",
            " |      order of two equal elements is maintained).\n",
            " |      \n",
            " |      If a key function is given, apply it once to each list item and sort them,\n",
            " |      ascending or descending, according to their function values.\n",
            " |      \n",
            " |      The reverse flag can be set to sort in descending order.\n",
            " |  \n",
            " |  ----------------------------------------------------------------------\n",
            " |  Class methods defined here:\n",
            " |  \n",
            " |  __class_getitem__(...) from builtins.type\n",
            " |      See PEP 585\n",
            " |  \n",
            " |  ----------------------------------------------------------------------\n",
            " |  Static methods defined here:\n",
            " |  \n",
            " |  __new__(*args, **kwargs) from builtins.type\n",
            " |      Create and return a new object.  See help(type) for accurate signature.\n",
            " |  \n",
            " |  ----------------------------------------------------------------------\n",
            " |  Data and other attributes defined here:\n",
            " |  \n",
            " |  __hash__ = None\n",
            "\n"
          ]
        }
      ],
      "source": [
        "help(list)"
      ]
    },
    {
      "cell_type": "code",
      "execution_count": null,
      "id": "45253a43",
      "metadata": {
        "id": "45253a43",
        "outputId": "dd3cc420-9d3d-4175-8e55-d25359a8ee18"
      },
      "outputs": [
        {
          "name": "stdout",
          "output_type": "stream",
          "text": [
            "['basketball', 'golf', 'hockey', 30, 40, 60]\n"
          ]
        }
      ],
      "source": [
        "list_2=['basketball','cricket','hockey',30,40,60]\n",
        "list_2[1]='golf'\n",
        "print(list_2)"
      ]
    },
    {
      "cell_type": "code",
      "execution_count": null,
      "id": "96b1f6d1",
      "metadata": {
        "scrolled": true,
        "id": "96b1f6d1",
        "outputId": "c36a9c2a-9f05-4e7d-f6c6-570ed03419f0"
      },
      "outputs": [
        {
          "name": "stdout",
          "output_type": "stream",
          "text": [
            "['basketball', 'golf', 'hockey', 30, 40, 60, 'football']\n"
          ]
        }
      ],
      "source": [
        "list_2.append('football')\n",
        "print(list_2)"
      ]
    },
    {
      "cell_type": "code",
      "execution_count": null,
      "id": "ad406a5f",
      "metadata": {
        "id": "ad406a5f",
        "outputId": "b8154aaa-35b8-42cc-b176-9865a8fb7438"
      },
      "outputs": [
        {
          "name": "stdout",
          "output_type": "stream",
          "text": [
            "['basketball', 'golf', 'hockey', 30, 40, 60, 'football', ['python', 'java']]\n"
          ]
        }
      ],
      "source": [
        "list_2.append(['python','java'])\n",
        "print(list_2)"
      ]
    },
    {
      "cell_type": "code",
      "execution_count": null,
      "id": "745e430c",
      "metadata": {
        "id": "745e430c",
        "outputId": "b1bd541e-c99e-4eb0-8ed2-dedb8f3a0f4f"
      },
      "outputs": [
        {
          "name": "stdout",
          "output_type": "stream",
          "text": [
            "['hockey', 'cricket', 'basketball']\n"
          ]
        }
      ],
      "source": [
        "list_2.reverse()\n",
        "print(list_2)"
      ]
    },
    {
      "cell_type": "code",
      "execution_count": null,
      "id": "1324e6a8",
      "metadata": {
        "id": "1324e6a8"
      },
      "outputs": [],
      "source": [
        "list_2=['basketball','cricket','hockey',30,40,60]\n",
        "list_2.extend(['badminton','cricket',70])"
      ]
    },
    {
      "cell_type": "code",
      "execution_count": null,
      "id": "f83be5b5",
      "metadata": {
        "id": "f83be5b5",
        "outputId": "d1e5a7b4-e81f-47f3-a8da-34dbebbb243c"
      },
      "outputs": [
        {
          "name": "stdout",
          "output_type": "stream",
          "text": [
            "['basketball', 'cricket', 'hockey', 30, 40, 60, 'badminton', 'cricket', 70]\n"
          ]
        }
      ],
      "source": [
        "print(list_2)"
      ]
    },
    {
      "cell_type": "code",
      "execution_count": null,
      "id": "bef24c80",
      "metadata": {
        "scrolled": true,
        "id": "bef24c80",
        "outputId": "501e57ed-aebe-48b1-f0e0-417bce2afa97"
      },
      "outputs": [
        {
          "name": "stdout",
          "output_type": "stream",
          "text": [
            "['basketball', 'cricket', 'hockey', 30, 40, 60, 'badminton', 'cricket']\n"
          ]
        }
      ],
      "source": [
        "list_2.pop() #lat item\n",
        "print(list_2)"
      ]
    },
    {
      "cell_type": "code",
      "execution_count": null,
      "id": "201aa54b",
      "metadata": {
        "id": "201aa54b",
        "outputId": "9e810258-3d33-464f-e86b-e57459ada1a0"
      },
      "outputs": [
        {
          "name": "stdout",
          "output_type": "stream",
          "text": [
            "['basketball', 'hockey', 30, 40, 60]\n"
          ]
        }
      ],
      "source": [
        "list_2.pop(1) #particular position\n",
        "print(list_2)"
      ]
    },
    {
      "cell_type": "code",
      "execution_count": null,
      "id": "fddcf918",
      "metadata": {
        "scrolled": true,
        "id": "fddcf918",
        "outputId": "7a143911-ba60-4bcc-e99b-ed4fab6928f6"
      },
      "outputs": [
        {
          "name": "stdout",
          "output_type": "stream",
          "text": [
            "['basketball', 'cricket', 'golf', 'hockey', 30, 40, 60]\n"
          ]
        }
      ],
      "source": [
        "list_2=['basketball','cricket','hockey',30,40,60]\n",
        "list_2.insert(2,'golf')\n",
        "print(list_2)"
      ]
    },
    {
      "cell_type": "code",
      "execution_count": null,
      "id": "a2cf8197",
      "metadata": {
        "id": "a2cf8197"
      },
      "outputs": [],
      "source": [
        "list_2.remove('golf')"
      ]
    },
    {
      "cell_type": "code",
      "execution_count": null,
      "id": "beb67a1b",
      "metadata": {
        "id": "beb67a1b",
        "outputId": "5ba4731f-84f2-47e6-f927-5a0d18108148"
      },
      "outputs": [
        {
          "name": "stdout",
          "output_type": "stream",
          "text": [
            "['basketball', 'cricket', 'hockey', 30, 40, 60]\n"
          ]
        }
      ],
      "source": [
        "print(list_2)"
      ]
    },
    {
      "cell_type": "markdown",
      "id": "ddbeabe4",
      "metadata": {
        "id": "ddbeabe4"
      },
      "source": [
        "# Index"
      ]
    },
    {
      "cell_type": "code",
      "execution_count": null,
      "id": "931d44af",
      "metadata": {
        "id": "931d44af",
        "outputId": "5506b075-7b2d-4a22-dabb-0f101b174e06"
      },
      "outputs": [
        {
          "data": {
            "text/plain": [
              "1"
            ]
          },
          "execution_count": 44,
          "metadata": {},
          "output_type": "execute_result"
        }
      ],
      "source": [
        "list_2=['basketball','cricket','hockey',30,40,60]\n",
        "list_2.index(\"cricket\")"
      ]
    },
    {
      "cell_type": "code",
      "execution_count": null,
      "id": "fc8e8084",
      "metadata": {
        "id": "fc8e8084",
        "outputId": "28c350c2-1666-4b85-893f-f28ba8123e49"
      },
      "outputs": [
        {
          "data": {
            "text/plain": [
              "3"
            ]
          },
          "execution_count": 45,
          "metadata": {},
          "output_type": "execute_result"
        }
      ],
      "source": [
        "var_1=[100,200,300,100,100]\n",
        "var_1.count(100)"
      ]
    },
    {
      "cell_type": "code",
      "execution_count": null,
      "id": "26bac404",
      "metadata": {
        "id": "26bac404",
        "outputId": "dd7f921b-79ee-4636-87be-4118526c6721"
      },
      "outputs": [
        {
          "data": {
            "text/plain": [
              "6"
            ]
          },
          "execution_count": 46,
          "metadata": {},
          "output_type": "execute_result"
        }
      ],
      "source": [
        "len(list_2) #builtin function"
      ]
    },
    {
      "cell_type": "code",
      "execution_count": null,
      "id": "1df306ae",
      "metadata": {
        "id": "1df306ae",
        "outputId": "bfb21276-ce43-4034-bdc3-8e554cdf932a"
      },
      "outputs": [
        {
          "data": {
            "text/plain": [
              "5"
            ]
          },
          "execution_count": 47,
          "metadata": {},
          "output_type": "execute_result"
        }
      ],
      "source": [
        "len(var_1)"
      ]
    },
    {
      "cell_type": "code",
      "execution_count": null,
      "id": "088c5879",
      "metadata": {
        "id": "088c5879",
        "outputId": "f49220ca-a23b-4922-8b26-0fd1035dbdd8"
      },
      "outputs": [
        {
          "name": "stdout",
          "output_type": "stream",
          "text": [
            "[]\n"
          ]
        }
      ],
      "source": [
        "var_1.clear()\n",
        "print(var_1)"
      ]
    },
    {
      "cell_type": "code",
      "execution_count": null,
      "id": "cb988233",
      "metadata": {
        "id": "cb988233"
      },
      "outputs": [],
      "source": [
        "var_1=[100,200,300,1500,800,890,5.6]\n",
        "var_1.sort() #ascending"
      ]
    },
    {
      "cell_type": "code",
      "execution_count": null,
      "id": "c99847ae",
      "metadata": {
        "id": "c99847ae",
        "outputId": "ce63f6e1-a84b-4f3d-86f4-1af26f1fdd73"
      },
      "outputs": [
        {
          "name": "stdout",
          "output_type": "stream",
          "text": [
            "[5.6, 100, 200, 300, 800, 890, 1500]\n"
          ]
        }
      ],
      "source": [
        "print(var_1)"
      ]
    },
    {
      "cell_type": "code",
      "execution_count": null,
      "id": "393f997e",
      "metadata": {
        "id": "393f997e",
        "outputId": "5dc80e55-9804-4e60-a11d-f652e8a642d5"
      },
      "outputs": [
        {
          "name": "stdout",
          "output_type": "stream",
          "text": [
            "[1500, 890, 800, 300, 200, 100, 5.6]\n"
          ]
        }
      ],
      "source": [
        "var_1=[100,200,300,1500,800,890,5.6]\n",
        "var_1.sort(reverse=True) #descending\n",
        "print(var_1)"
      ]
    },
    {
      "cell_type": "code",
      "execution_count": null,
      "id": "a53dc402",
      "metadata": {
        "id": "a53dc402",
        "outputId": "b9050cdd-8b94-4d79-d792-ef76115bd430"
      },
      "outputs": [
        {
          "ename": "TypeError",
          "evalue": "'<' not supported between instances of 'int' and 'str'",
          "output_type": "error",
          "traceback": [
            "\u001b[1;31m---------------------------------------------------------------------------\u001b[0m",
            "\u001b[1;31mTypeError\u001b[0m                                 Traceback (most recent call last)",
            "Cell \u001b[1;32mIn[53], line 2\u001b[0m\n\u001b[0;32m      1\u001b[0m list_2\u001b[38;5;241m=\u001b[39m[\u001b[38;5;124m'\u001b[39m\u001b[38;5;124mbasketball\u001b[39m\u001b[38;5;124m'\u001b[39m,\u001b[38;5;124m'\u001b[39m\u001b[38;5;124mcricket\u001b[39m\u001b[38;5;124m'\u001b[39m,\u001b[38;5;124m'\u001b[39m\u001b[38;5;124mhockey\u001b[39m\u001b[38;5;124m'\u001b[39m,\u001b[38;5;241m30\u001b[39m,\u001b[38;5;241m40\u001b[39m,\u001b[38;5;241m60\u001b[39m]\n\u001b[1;32m----> 2\u001b[0m \u001b[43mlist_2\u001b[49m\u001b[38;5;241;43m.\u001b[39;49m\u001b[43msort\u001b[49m\u001b[43m(\u001b[49m\u001b[43m)\u001b[49m\n\u001b[0;32m      3\u001b[0m \u001b[38;5;28mprint\u001b[39m(list_2)\n",
            "\u001b[1;31mTypeError\u001b[0m: '<' not supported between instances of 'int' and 'str'"
          ]
        }
      ],
      "source": [
        "list_2=['basketball','cricket','hockey',30,40,60]\n",
        "list_2.sort()#only number/alphabets for sorting\n",
        "print(list_2)"
      ]
    },
    {
      "cell_type": "code",
      "execution_count": null,
      "id": "3e98ae27",
      "metadata": {
        "id": "3e98ae27",
        "outputId": "561593c7-2e3c-424b-dd59-d1ca36678535"
      },
      "outputs": [
        {
          "name": "stdout",
          "output_type": "stream",
          "text": [
            "['basketball', 'cricket', 'golf', 'hockey']\n"
          ]
        }
      ],
      "source": [
        "list_2=['basketball','golf','cricket','hockey']\n",
        "list_2.sort()\n",
        "print(list_2)"
      ]
    },
    {
      "cell_type": "code",
      "execution_count": null,
      "id": "1b7a3838",
      "metadata": {
        "id": "1b7a3838",
        "outputId": "3755a9f6-9777-4c2b-b1f8-2d94081098b4"
      },
      "outputs": [
        {
          "name": "stdout",
          "output_type": "stream",
          "text": [
            "['hockey', 'golf', 'cricket', 'basketball']\n"
          ]
        }
      ],
      "source": [
        "list_2.reverse()\n",
        "print(list_2)"
      ]
    },
    {
      "cell_type": "code",
      "execution_count": null,
      "id": "8d76a9a1",
      "metadata": {
        "id": "8d76a9a1",
        "outputId": "a2d7082f-95ca-460c-adb4-8e4db2fb74cc"
      },
      "outputs": [
        {
          "ename": "NameError",
          "evalue": "name 'list_3' is not defined",
          "output_type": "error",
          "traceback": [
            "\u001b[1;31m---------------------------------------------------------------------------\u001b[0m",
            "\u001b[1;31mNameError\u001b[0m                                 Traceback (most recent call last)",
            "Cell \u001b[1;32mIn[60], line 1\u001b[0m\n\u001b[1;32m----> 1\u001b[0m \u001b[43mlist_3\u001b[49m[\u001b[38;5;241m50\u001b[39m,\u001b[38;5;241m60\u001b[39m,\u001b[38;5;241m78\u001b[39m,\u001b[38;5;241m67\u001b[39m]\n\u001b[0;32m      2\u001b[0m \u001b[38;5;28;01mdel\u001b[39;00m list_3\n\u001b[0;32m      3\u001b[0m \u001b[38;5;28mprint\u001b[39m(list_3)\n",
            "\u001b[1;31mNameError\u001b[0m: name 'list_3' is not defined"
          ]
        }
      ],
      "source": [
        "list_3[50,60,78,67]\n",
        "del list_3\n",
        "print(list_3) #list is deleted"
      ]
    },
    {
      "cell_type": "code",
      "execution_count": null,
      "id": "e0197f61",
      "metadata": {
        "id": "e0197f61",
        "outputId": "8f0dc941-7a1e-4415-d2e9-a3b08ab9a247"
      },
      "outputs": [
        {
          "data": {
            "text/plain": [
              "2546977911616"
            ]
          },
          "execution_count": 62,
          "metadata": {},
          "output_type": "execute_result"
        }
      ],
      "source": [
        "list_2=['basketball','cricket','hockey',30,40,60]\n",
        "id(list_2)"
      ]
    },
    {
      "cell_type": "code",
      "execution_count": null,
      "id": "a86f13f9",
      "metadata": {
        "id": "a86f13f9",
        "outputId": "3f01383c-5888-4804-b56b-36f58b99eecd"
      },
      "outputs": [
        {
          "data": {
            "text/plain": [
              "2546977911616"
            ]
          },
          "execution_count": 63,
          "metadata": {},
          "output_type": "execute_result"
        }
      ],
      "source": [
        "x=list_2  #shallow copy\n",
        "id(x)"
      ]
    },
    {
      "cell_type": "code",
      "execution_count": null,
      "id": "328d8c25",
      "metadata": {
        "id": "328d8c25",
        "outputId": "24beac18-54ad-4fd3-9d31-db9f8965bbdd"
      },
      "outputs": [
        {
          "data": {
            "text/plain": [
              "2546977565568"
            ]
          },
          "execution_count": 66,
          "metadata": {},
          "output_type": "execute_result"
        }
      ],
      "source": [
        "lst=[56,89,78,69,90]\n",
        "copied_one=lst.copy()\n",
        "id(lst)"
      ]
    },
    {
      "cell_type": "code",
      "execution_count": null,
      "id": "b92ac8ba",
      "metadata": {
        "id": "b92ac8ba",
        "outputId": "75868f4b-5198-4d83-b114-ff46b895f278"
      },
      "outputs": [
        {
          "data": {
            "text/plain": [
              "2546978057664"
            ]
          },
          "execution_count": 67,
          "metadata": {},
          "output_type": "execute_result"
        }
      ],
      "source": [
        "id(copied_one)"
      ]
    },
    {
      "cell_type": "code",
      "execution_count": null,
      "id": "98077183",
      "metadata": {
        "id": "98077183",
        "outputId": "e42e6930-3722-4006-99f6-f2020c6eb8d0"
      },
      "outputs": [
        {
          "name": "stdout",
          "output_type": "stream",
          "text": [
            "(1, 2.4, 'hey there', True, [1, 2, 3, 4])\n"
          ]
        }
      ],
      "source": [
        "tuple_1=(1,2.4,'hey there',True,[1,2,3,4])\n",
        "print(tuple_1)"
      ]
    },
    {
      "cell_type": "code",
      "execution_count": null,
      "id": "eab089f8",
      "metadata": {
        "id": "eab089f8",
        "outputId": "bb61c527-7fc7-4d40-bfbb-0f63a0c5e82c"
      },
      "outputs": [
        {
          "name": "stdout",
          "output_type": "stream",
          "text": [
            "(1, 2, 3, 4, ('h', 'j', 'k', 'l'))\n"
          ]
        }
      ],
      "source": [
        "tuple_2=(1,2,3,4,('h','j','k','l'))#nested tuple\n",
        "print(tuple_2)"
      ]
    },
    {
      "cell_type": "code",
      "execution_count": null,
      "id": "2cae8cff",
      "metadata": {
        "id": "2cae8cff",
        "outputId": "11b2300e-64c4-410d-860d-4393350018aa"
      },
      "outputs": [
        {
          "ename": "TypeError",
          "evalue": "'tuple' object does not support item assignment",
          "output_type": "error",
          "traceback": [
            "\u001b[1;31m---------------------------------------------------------------------------\u001b[0m",
            "\u001b[1;31mTypeError\u001b[0m                                 Traceback (most recent call last)",
            "Cell \u001b[1;32mIn[70], line 1\u001b[0m\n\u001b[1;32m----> 1\u001b[0m tuple_1[\u001b[38;5;241m2\u001b[39m]\u001b[38;5;241m=\u001b[39m\u001b[38;5;124m'\u001b[39m\u001b[38;5;124mbanana\u001b[39m\u001b[38;5;124m'\u001b[39m\n",
            "\u001b[1;31mTypeError\u001b[0m: 'tuple' object does not support item assignment"
          ]
        }
      ],
      "source": [
        "tuple_1[2]='banana' #tuples are immutable"
      ]
    },
    {
      "cell_type": "code",
      "execution_count": null,
      "id": "e798a6e8",
      "metadata": {
        "id": "e798a6e8"
      },
      "outputs": [],
      "source": [
        "list_3=['zebra','zebra','lion']\n",
        "list_3[1]=90"
      ]
    },
    {
      "cell_type": "code",
      "execution_count": null,
      "id": "ec020e01",
      "metadata": {
        "id": "ec020e01",
        "outputId": "a19a3060-40ea-407b-c7ed-1114b29df448"
      },
      "outputs": [
        {
          "name": "stdout",
          "output_type": "stream",
          "text": [
            "['zebra', 90, 'lion']\n"
          ]
        }
      ],
      "source": [
        "print(list_3)"
      ]
    },
    {
      "cell_type": "code",
      "execution_count": null,
      "id": "fd6a846a",
      "metadata": {
        "id": "fd6a846a",
        "outputId": "f2e190b5-6eb8-445a-a702-52e211788b48"
      },
      "outputs": [
        {
          "name": "stdout",
          "output_type": "stream",
          "text": [
            "Help on class tuple in module builtins:\n",
            "\n",
            "class tuple(object)\n",
            " |  tuple(iterable=(), /)\n",
            " |  \n",
            " |  Built-in immutable sequence.\n",
            " |  \n",
            " |  If no argument is given, the constructor returns an empty tuple.\n",
            " |  If iterable is specified the tuple is initialized from iterable's items.\n",
            " |  \n",
            " |  If the argument is a tuple, the return value is the same object.\n",
            " |  \n",
            " |  Built-in subclasses:\n",
            " |      asyncgen_hooks\n",
            " |      UnraisableHookArgs\n",
            " |  \n",
            " |  Methods defined here:\n",
            " |  \n",
            " |  __add__(self, value, /)\n",
            " |      Return self+value.\n",
            " |  \n",
            " |  __contains__(self, key, /)\n",
            " |      Return key in self.\n",
            " |  \n",
            " |  __eq__(self, value, /)\n",
            " |      Return self==value.\n",
            " |  \n",
            " |  __ge__(self, value, /)\n",
            " |      Return self>=value.\n",
            " |  \n",
            " |  __getattribute__(self, name, /)\n",
            " |      Return getattr(self, name).\n",
            " |  \n",
            " |  __getitem__(self, key, /)\n",
            " |      Return self[key].\n",
            " |  \n",
            " |  __getnewargs__(self, /)\n",
            " |  \n",
            " |  __gt__(self, value, /)\n",
            " |      Return self>value.\n",
            " |  \n",
            " |  __hash__(self, /)\n",
            " |      Return hash(self).\n",
            " |  \n",
            " |  __iter__(self, /)\n",
            " |      Implement iter(self).\n",
            " |  \n",
            " |  __le__(self, value, /)\n",
            " |      Return self<=value.\n",
            " |  \n",
            " |  __len__(self, /)\n",
            " |      Return len(self).\n",
            " |  \n",
            " |  __lt__(self, value, /)\n",
            " |      Return self<value.\n",
            " |  \n",
            " |  __mul__(self, value, /)\n",
            " |      Return self*value.\n",
            " |  \n",
            " |  __ne__(self, value, /)\n",
            " |      Return self!=value.\n",
            " |  \n",
            " |  __repr__(self, /)\n",
            " |      Return repr(self).\n",
            " |  \n",
            " |  __rmul__(self, value, /)\n",
            " |      Return value*self.\n",
            " |  \n",
            " |  count(self, value, /)\n",
            " |      Return number of occurrences of value.\n",
            " |  \n",
            " |  index(self, value, start=0, stop=9223372036854775807, /)\n",
            " |      Return first index of value.\n",
            " |      \n",
            " |      Raises ValueError if the value is not present.\n",
            " |  \n",
            " |  ----------------------------------------------------------------------\n",
            " |  Class methods defined here:\n",
            " |  \n",
            " |  __class_getitem__(...) from builtins.type\n",
            " |      See PEP 585\n",
            " |  \n",
            " |  ----------------------------------------------------------------------\n",
            " |  Static methods defined here:\n",
            " |  \n",
            " |  __new__(*args, **kwargs) from builtins.type\n",
            " |      Create and return a new object.  See help(type) for accurate signature.\n",
            "\n"
          ]
        }
      ],
      "source": [
        "help(tuple)"
      ]
    },
    {
      "cell_type": "markdown",
      "id": "31eecf44",
      "metadata": {
        "id": "31eecf44"
      },
      "source": [
        "# difference List and Tuple"
      ]
    },
    {
      "cell_type": "raw",
      "id": "db64b4ec",
      "metadata": {
        "id": "db64b4ec"
      },
      "source": [
        "*Lists anr mutable/editable\n",
        "*Tuples are immutable/uneditable"
      ]
    },
    {
      "cell_type": "code",
      "execution_count": null,
      "id": "f44e7b75",
      "metadata": {
        "id": "f44e7b75",
        "outputId": "54bba271-123c-48ae-b179-729d412889b1"
      },
      "outputs": [
        {
          "name": "stdout",
          "output_type": "stream",
          "text": [
            "<class 'tuple'>\n"
          ]
        }
      ],
      "source": [
        "x=1,2,3,4.5,67\n",
        "print(type(x))"
      ]
    },
    {
      "cell_type": "code",
      "execution_count": null,
      "id": "e53ac242",
      "metadata": {
        "id": "e53ac242",
        "outputId": "252b49dc-050e-4411-e304-a8d1e1f97ddb"
      },
      "outputs": [
        {
          "name": "stdout",
          "output_type": "stream",
          "text": [
            "3\n"
          ]
        }
      ],
      "source": [
        "tuple_1=(1,2.4,'hey there',True,[1,2,3,4])\n",
        "\n",
        "print(tuple_1[4][2])"
      ]
    },
    {
      "cell_type": "code",
      "execution_count": null,
      "id": "502a2cc4",
      "metadata": {
        "id": "502a2cc4",
        "outputId": "2c5ff69a-26e2-4caf-abfe-ca52e373c240"
      },
      "outputs": [
        {
          "name": "stdout",
          "output_type": "stream",
          "text": [
            "4\n"
          ]
        }
      ],
      "source": [
        "print(tuple_1[-1][-1])"
      ]
    },
    {
      "cell_type": "code",
      "execution_count": null,
      "id": "c8fc18a7",
      "metadata": {
        "id": "c8fc18a7",
        "outputId": "64345d88-0b2f-4b1a-927e-dfc5bfdd974c"
      },
      "outputs": [
        {
          "name": "stdout",
          "output_type": "stream",
          "text": [
            "4\n"
          ]
        }
      ],
      "source": [
        "print(tuple_1[4][-1])"
      ]
    },
    {
      "cell_type": "markdown",
      "id": "52386b39",
      "metadata": {
        "id": "52386b39"
      },
      "source": [
        "Indexing is extracting particular element with the help of index.\n",
        " Slicing is extracting more than one element with the hep of indexing"
      ]
    },
    {
      "cell_type": "code",
      "execution_count": null,
      "id": "f3e73e0d",
      "metadata": {
        "id": "f3e73e0d",
        "outputId": "94d46944-93a6-4304-91bc-7931c241fda6"
      },
      "outputs": [
        {
          "name": "stdout",
          "output_type": "stream",
          "text": [
            "(2.4, 'hey there', True)\n"
          ]
        }
      ],
      "source": [
        "print(tuple_1[1:4])"
      ]
    },
    {
      "cell_type": "code",
      "execution_count": null,
      "id": "9dd9de17",
      "metadata": {
        "id": "9dd9de17"
      },
      "outputs": [],
      "source": [
        "#name[start:end+1]#last but one get printed"
      ]
    },
    {
      "cell_type": "code",
      "execution_count": null,
      "id": "eec594f6",
      "metadata": {
        "id": "eec594f6",
        "outputId": "518bb27f-693f-4a8c-d9c2-7ced77a689a9"
      },
      "outputs": [
        {
          "data": {
            "text/plain": [
              "(1, 2.4, 'hey there')"
            ]
          },
          "execution_count": 80,
          "metadata": {},
          "output_type": "execute_result"
        }
      ],
      "source": [
        "tuple_1[0:3]"
      ]
    },
    {
      "cell_type": "code",
      "execution_count": null,
      "id": "af8e452b",
      "metadata": {
        "id": "af8e452b",
        "outputId": "a6eb5b7e-39b3-496b-fa16-85281081964f"
      },
      "outputs": [
        {
          "data": {
            "text/plain": [
              "tuple"
            ]
          },
          "execution_count": 85,
          "metadata": {},
          "output_type": "execute_result"
        }
      ],
      "source": [
        "sports='badminton','basketball','tennis','chess','rugby'\n",
        "type(sports)"
      ]
    },
    {
      "cell_type": "code",
      "execution_count": null,
      "id": "9b5876e7",
      "metadata": {
        "id": "9b5876e7",
        "outputId": "dbd24a65-a16b-4204-950e-cd7a44b6f11a"
      },
      "outputs": [
        {
          "data": {
            "text/plain": [
              "'chess'"
            ]
          },
          "execution_count": 86,
          "metadata": {},
          "output_type": "execute_result"
        }
      ],
      "source": [
        "sports[3]"
      ]
    },
    {
      "cell_type": "code",
      "execution_count": null,
      "id": "96c3f59f",
      "metadata": {
        "id": "96c3f59f",
        "outputId": "a81ae337-7c11-4fd1-effb-c0bd231d29e5"
      },
      "outputs": [
        {
          "name": "stdout",
          "output_type": "stream",
          "text": [
            "('tennis', 'chess', 'rugby')\n"
          ]
        }
      ],
      "source": [
        "print(sports[2:])"
      ]
    },
    {
      "cell_type": "code",
      "execution_count": null,
      "id": "51a60617",
      "metadata": {
        "id": "51a60617",
        "outputId": "bb1d4bb1-56df-443e-9655-fb31965e90cf"
      },
      "outputs": [
        {
          "name": "stdout",
          "output_type": "stream",
          "text": [
            "('tennis', 'chess', 'rugby')\n"
          ]
        }
      ],
      "source": [
        "print(sports[2:5]) # last+1"
      ]
    },
    {
      "cell_type": "code",
      "execution_count": null,
      "id": "2f6c6ee4",
      "metadata": {
        "id": "2f6c6ee4",
        "outputId": "7db2b2ed-1862-4241-de72-788ec2976d89"
      },
      "outputs": [
        {
          "name": "stdout",
          "output_type": "stream",
          "text": [
            "('badminton', 'basketball', 'tennis', 'chess')\n"
          ]
        }
      ],
      "source": [
        "print(sports[:4])"
      ]
    },
    {
      "cell_type": "markdown",
      "id": "b375b099",
      "metadata": {
        "id": "b375b099"
      },
      "source": [
        "##Jumps"
      ]
    },
    {
      "cell_type": "code",
      "execution_count": null,
      "id": "67779165",
      "metadata": {
        "id": "67779165",
        "outputId": "4c472164-12d0-4f0a-cf2b-565124037a3d"
      },
      "outputs": [
        {
          "name": "stdout",
          "output_type": "stream",
          "text": [
            "('badminton', 'tennis', 'rugby')\n"
          ]
        }
      ],
      "source": [
        "sports='badminton','basketball','tennis','chess','rugby'\n",
        "print(sports[0: :2])"
      ]
    },
    {
      "cell_type": "code",
      "execution_count": null,
      "id": "c4ab8048",
      "metadata": {
        "id": "c4ab8048",
        "outputId": "e64a3cec-5baa-4bff-f569-1dd7504f6fb8"
      },
      "outputs": [
        {
          "name": "stdout",
          "output_type": "stream",
          "text": [
            "('badminton', 'chess')\n",
            "('badminton', 'chess')\n"
          ]
        }
      ],
      "source": [
        "print(sports[0:4:3]) #3jumps excluse 2 elements\n",
        "print(sports[0: :3])"
      ]
    },
    {
      "cell_type": "code",
      "execution_count": null,
      "id": "4139b3a6",
      "metadata": {
        "id": "4139b3a6",
        "outputId": "1b812afb-9e08-4bdb-fdf8-e2ce3c995f21"
      },
      "outputs": [
        {
          "name": "stdout",
          "output_type": "stream",
          "text": [
            "('chess', 'tennis', 'basketball', 'badminton')\n",
            "('chess', 'tennis', 'basketball', 'badminton')\n"
          ]
        }
      ],
      "source": [
        "print(sports[-2:-6:-1]) # reverse/backword direction\n",
        "print(sports[-2: :-1])"
      ]
    },
    {
      "cell_type": "code",
      "execution_count": null,
      "id": "c6a4f7f0",
      "metadata": {
        "id": "c6a4f7f0",
        "outputId": "228c6578-6d42-4456-dd23-f2a5a639c207"
      },
      "outputs": [
        {
          "name": "stdout",
          "output_type": "stream",
          "text": [
            "['badminton', 'basketball', 'chess', 'rugby', 'tennis']\n"
          ]
        }
      ],
      "source": [
        "print(sorted(sports))# It converts output as list"
      ]
    },
    {
      "cell_type": "code",
      "execution_count": null,
      "id": "f211f465",
      "metadata": {
        "id": "f211f465",
        "outputId": "a94851c6-8e47-4044-df85-48cf39d42115"
      },
      "outputs": [
        {
          "name": "stdout",
          "output_type": "stream",
          "text": [
            "[67, 4.5, 3, 2, 1]\n"
          ]
        }
      ],
      "source": [
        "x=1,2,3,4.5,67\n",
        "print(sorted(x,reverse=True))"
      ]
    },
    {
      "cell_type": "raw",
      "id": "f036acc0",
      "metadata": {
        "id": "f036acc0"
      },
      "source": [
        "#descending order but gives answer in the format of list"
      ]
    },
    {
      "cell_type": "markdown",
      "id": "125e5049",
      "metadata": {
        "id": "125e5049"
      },
      "source": [
        " in list we use method but in tuple there is no method only built in function."
      ]
    },
    {
      "cell_type": "markdown",
      "id": "fc9917fb",
      "metadata": {
        "id": "fc9917fb"
      },
      "source": [
        "#Garbage collection study in notes"
      ]
    },
    {
      "cell_type": "markdown",
      "id": "9db5469c",
      "metadata": {
        "id": "9db5469c"
      },
      "source": [
        "# Sets"
      ]
    },
    {
      "cell_type": "code",
      "execution_count": null,
      "id": "dcf580e3",
      "metadata": {
        "id": "dcf580e3",
        "outputId": "16a1737a-3a7c-4299-c641-59d2b7a529a7"
      },
      "outputs": [
        {
          "name": "stdout",
          "output_type": "stream",
          "text": [
            "Help on class set in module builtins:\n",
            "\n",
            "class set(object)\n",
            " |  set() -> new empty set object\n",
            " |  set(iterable) -> new set object\n",
            " |  \n",
            " |  Build an unordered collection of unique elements.\n",
            " |  \n",
            " |  Methods defined here:\n",
            " |  \n",
            " |  __and__(self, value, /)\n",
            " |      Return self&value.\n",
            " |  \n",
            " |  __contains__(...)\n",
            " |      x.__contains__(y) <==> y in x.\n",
            " |  \n",
            " |  __eq__(self, value, /)\n",
            " |      Return self==value.\n",
            " |  \n",
            " |  __ge__(self, value, /)\n",
            " |      Return self>=value.\n",
            " |  \n",
            " |  __getattribute__(self, name, /)\n",
            " |      Return getattr(self, name).\n",
            " |  \n",
            " |  __gt__(self, value, /)\n",
            " |      Return self>value.\n",
            " |  \n",
            " |  __iand__(self, value, /)\n",
            " |      Return self&=value.\n",
            " |  \n",
            " |  __init__(self, /, *args, **kwargs)\n",
            " |      Initialize self.  See help(type(self)) for accurate signature.\n",
            " |  \n",
            " |  __ior__(self, value, /)\n",
            " |      Return self|=value.\n",
            " |  \n",
            " |  __isub__(self, value, /)\n",
            " |      Return self-=value.\n",
            " |  \n",
            " |  __iter__(self, /)\n",
            " |      Implement iter(self).\n",
            " |  \n",
            " |  __ixor__(self, value, /)\n",
            " |      Return self^=value.\n",
            " |  \n",
            " |  __le__(self, value, /)\n",
            " |      Return self<=value.\n",
            " |  \n",
            " |  __len__(self, /)\n",
            " |      Return len(self).\n",
            " |  \n",
            " |  __lt__(self, value, /)\n",
            " |      Return self<value.\n",
            " |  \n",
            " |  __ne__(self, value, /)\n",
            " |      Return self!=value.\n",
            " |  \n",
            " |  __or__(self, value, /)\n",
            " |      Return self|value.\n",
            " |  \n",
            " |  __rand__(self, value, /)\n",
            " |      Return value&self.\n",
            " |  \n",
            " |  __reduce__(...)\n",
            " |      Return state information for pickling.\n",
            " |  \n",
            " |  __repr__(self, /)\n",
            " |      Return repr(self).\n",
            " |  \n",
            " |  __ror__(self, value, /)\n",
            " |      Return value|self.\n",
            " |  \n",
            " |  __rsub__(self, value, /)\n",
            " |      Return value-self.\n",
            " |  \n",
            " |  __rxor__(self, value, /)\n",
            " |      Return value^self.\n",
            " |  \n",
            " |  __sizeof__(...)\n",
            " |      S.__sizeof__() -> size of S in memory, in bytes\n",
            " |  \n",
            " |  __sub__(self, value, /)\n",
            " |      Return self-value.\n",
            " |  \n",
            " |  __xor__(self, value, /)\n",
            " |      Return self^value.\n",
            " |  \n",
            " |  add(...)\n",
            " |      Add an element to a set.\n",
            " |      \n",
            " |      This has no effect if the element is already present.\n",
            " |  \n",
            " |  clear(...)\n",
            " |      Remove all elements from this set.\n",
            " |  \n",
            " |  copy(...)\n",
            " |      Return a shallow copy of a set.\n",
            " |  \n",
            " |  difference(...)\n",
            " |      Return the difference of two or more sets as a new set.\n",
            " |      \n",
            " |      (i.e. all elements that are in this set but not the others.)\n",
            " |  \n",
            " |  difference_update(...)\n",
            " |      Remove all elements of another set from this set.\n",
            " |  \n",
            " |  discard(...)\n",
            " |      Remove an element from a set if it is a member.\n",
            " |      \n",
            " |      If the element is not a member, do nothing.\n",
            " |  \n",
            " |  intersection(...)\n",
            " |      Return the intersection of two sets as a new set.\n",
            " |      \n",
            " |      (i.e. all elements that are in both sets.)\n",
            " |  \n",
            " |  intersection_update(...)\n",
            " |      Update a set with the intersection of itself and another.\n",
            " |  \n",
            " |  isdisjoint(...)\n",
            " |      Return True if two sets have a null intersection.\n",
            " |  \n",
            " |  issubset(...)\n",
            " |      Report whether another set contains this set.\n",
            " |  \n",
            " |  issuperset(...)\n",
            " |      Report whether this set contains another set.\n",
            " |  \n",
            " |  pop(...)\n",
            " |      Remove and return an arbitrary set element.\n",
            " |      Raises KeyError if the set is empty.\n",
            " |  \n",
            " |  remove(...)\n",
            " |      Remove an element from a set; it must be a member.\n",
            " |      \n",
            " |      If the element is not a member, raise a KeyError.\n",
            " |  \n",
            " |  symmetric_difference(...)\n",
            " |      Return the symmetric difference of two sets as a new set.\n",
            " |      \n",
            " |      (i.e. all elements that are in exactly one of the sets.)\n",
            " |  \n",
            " |  symmetric_difference_update(...)\n",
            " |      Update a set with the symmetric difference of itself and another.\n",
            " |  \n",
            " |  union(...)\n",
            " |      Return the union of sets as a new set.\n",
            " |      \n",
            " |      (i.e. all elements that are in either set.)\n",
            " |  \n",
            " |  update(...)\n",
            " |      Update a set with the union of itself and others.\n",
            " |  \n",
            " |  ----------------------------------------------------------------------\n",
            " |  Class methods defined here:\n",
            " |  \n",
            " |  __class_getitem__(...) from builtins.type\n",
            " |      See PEP 585\n",
            " |  \n",
            " |  ----------------------------------------------------------------------\n",
            " |  Static methods defined here:\n",
            " |  \n",
            " |  __new__(*args, **kwargs) from builtins.type\n",
            " |      Create and return a new object.  See help(type) for accurate signature.\n",
            " |  \n",
            " |  ----------------------------------------------------------------------\n",
            " |  Data and other attributes defined here:\n",
            " |  \n",
            " |  __hash__ = None\n",
            "\n"
          ]
        }
      ],
      "source": [
        "help(set)"
      ]
    },
    {
      "cell_type": "code",
      "execution_count": null,
      "id": "3d500b36",
      "metadata": {
        "id": "3d500b36",
        "outputId": "d5979e2c-a31f-4563-a658-541e9f0b0216"
      },
      "outputs": [
        {
          "ename": "TypeError",
          "evalue": "unhashable type: 'list'",
          "output_type": "error",
          "traceback": [
            "\u001b[1;31m---------------------------------------------------------------------------\u001b[0m",
            "\u001b[1;31mTypeError\u001b[0m                                 Traceback (most recent call last)",
            "Cell \u001b[1;32mIn[116], line 1\u001b[0m\n\u001b[1;32m----> 1\u001b[0m set_1\u001b[38;5;241m=\u001b[39m{\u001b[38;5;241m1\u001b[39m,\u001b[38;5;241m4.5\u001b[39m,\u001b[38;5;28;01mTrue\u001b[39;00m,\u001b[38;5;124m'\u001b[39m\u001b[38;5;124mhey there I am set\u001b[39m\u001b[38;5;124m'\u001b[39m,[\u001b[38;5;124m'\u001b[39m\u001b[38;5;124mh\u001b[39m\u001b[38;5;124m'\u001b[39m,\u001b[38;5;124m'\u001b[39m\u001b[38;5;124mi\u001b[39m\u001b[38;5;124m'\u001b[39m,\u001b[38;5;124m'\u001b[39m\u001b[38;5;124mj\u001b[39m\u001b[38;5;124m'\u001b[39m,\u001b[38;5;124m'\u001b[39m\u001b[38;5;124mk\u001b[39m\u001b[38;5;124m'\u001b[39m]}\n",
            "\u001b[1;31mTypeError\u001b[0m: unhashable type: 'list'"
          ]
        }
      ],
      "source": [
        "set_1={1,4.5,True,'hey there I am set',['h','i','j','k']}"
      ]
    },
    {
      "cell_type": "raw",
      "id": "bb0ae8e7",
      "metadata": {
        "id": "bb0ae8e7"
      },
      "source": [
        "Lists, set,dictionary are not allowed in sets."
      ]
    },
    {
      "cell_type": "code",
      "execution_count": null,
      "id": "a9f67006",
      "metadata": {
        "id": "a9f67006",
        "outputId": "a4e9b212-f32b-4c91-f57e-2c1bc38c6721"
      },
      "outputs": [
        {
          "name": "stdout",
          "output_type": "stream",
          "text": [
            "{1, ('h', 'i', 'j', 'k'), 4.5, 'hey there I am set'}\n"
          ]
        }
      ],
      "source": [
        "Set_1={1,4.5,True,'hey there I am set',('h','i','j','k')}\n",
        "print(Set_1)"
      ]
    },
    {
      "cell_type": "raw",
      "id": "6fb364ce",
      "metadata": {
        "id": "6fb364ce"
      },
      "source": [
        "Tuples,float,intigers,strings are the datatype allowed in set"
      ]
    },
    {
      "cell_type": "code",
      "execution_count": null,
      "id": "ee3146fe",
      "metadata": {
        "id": "ee3146fe",
        "outputId": "2a9de0f4-27a2-482b-954f-178387e9ab58"
      },
      "outputs": [
        {
          "name": "stdout",
          "output_type": "stream",
          "text": [
            "{1, 4.5}\n"
          ]
        }
      ],
      "source": [
        "print(set_1)"
      ]
    },
    {
      "cell_type": "code",
      "execution_count": null,
      "id": "5548b5fd",
      "metadata": {
        "id": "5548b5fd",
        "outputId": "9dc460d9-7e22-41eb-fc73-f33496002d9d"
      },
      "outputs": [
        {
          "name": "stdout",
          "output_type": "stream",
          "text": [
            "<class 'dict'>\n"
          ]
        }
      ],
      "source": [
        "x={} #empty set declaired as dictionary\n",
        "print(type(x))"
      ]
    },
    {
      "cell_type": "code",
      "execution_count": null,
      "id": "6805dc6e",
      "metadata": {
        "id": "6805dc6e"
      },
      "outputs": [],
      "source": [
        "set_2={1,2.3,2,2.0,True,False} #it won't print duplicate values.i.e.True and 1 are same"
      ]
    },
    {
      "cell_type": "code",
      "execution_count": null,
      "id": "7dc41753",
      "metadata": {
        "id": "7dc41753",
        "outputId": "2c3d5ecb-efaa-461f-de44-cbd74ef9de36"
      },
      "outputs": [
        {
          "name": "stdout",
          "output_type": "stream",
          "text": [
            "{False, 1, 2.3, 2}\n"
          ]
        }
      ],
      "source": [
        "print(set_2)"
      ]
    },
    {
      "cell_type": "code",
      "execution_count": null,
      "id": "40f550a2",
      "metadata": {
        "id": "40f550a2",
        "outputId": "3743fe49-4d89-4df2-b680-7b4e416f12b3"
      },
      "outputs": [
        {
          "name": "stdout",
          "output_type": "stream",
          "text": [
            "{False, True, 2.5}\n"
          ]
        }
      ],
      "source": [
        "set_3={True, False, 0,1,2.5}\n",
        "print(set_3)"
      ]
    },
    {
      "cell_type": "code",
      "execution_count": null,
      "id": "c7b2fa0c",
      "metadata": {
        "id": "c7b2fa0c",
        "outputId": "b9404da4-de61-4dbc-ab76-1b720fde8da0"
      },
      "outputs": [
        {
          "name": "stdout",
          "output_type": "stream",
          "text": [
            "{1, 2, 3, 4, 5, 7, 'wow'}\n"
          ]
        }
      ],
      "source": [
        "set_new={1,2,3,4,5,7} #can add single element\n",
        "set_new.add('wow')\n",
        "print(set_new)"
      ]
    },
    {
      "cell_type": "code",
      "execution_count": null,
      "id": "8fd30b8f",
      "metadata": {
        "id": "8fd30b8f",
        "outputId": "316732ce-7abe-4d1b-c89b-3a03be2b0c93"
      },
      "outputs": [
        {
          "name": "stdout",
          "output_type": "stream",
          "text": [
            "{1, 2, 3, 4, 5, 'wow'}\n"
          ]
        }
      ],
      "source": [
        "set_new.discard(7)#deletes element from set\n",
        "print(set_new)"
      ]
    },
    {
      "cell_type": "code",
      "execution_count": null,
      "id": "a6f5ba77",
      "metadata": {
        "id": "a6f5ba77"
      },
      "outputs": [],
      "source": [
        "#we cannot replace the element in set"
      ]
    },
    {
      "cell_type": "code",
      "execution_count": null,
      "id": "0ee297ab",
      "metadata": {
        "id": "0ee297ab",
        "outputId": "62d2b025-b8b9-4e91-d3d1-debef1639847"
      },
      "outputs": [
        {
          "name": "stdout",
          "output_type": "stream",
          "text": [
            "[1, 2, 3, 4, 5, 6, 7, 8]\n"
          ]
        }
      ],
      "source": [
        "list_10=[1,2,3,4]\n",
        "list_11=[5,6,7,8]\n",
        "print(list_10+list_11)"
      ]
    },
    {
      "cell_type": "code",
      "execution_count": null,
      "id": "4df15f93",
      "metadata": {
        "id": "4df15f93",
        "outputId": "3084b62c-aed0-4d4a-ed65-23a2b56d9297"
      },
      "outputs": [
        {
          "ename": "TypeError",
          "evalue": "unsupported operand type(s) for +: 'set' and 'set'",
          "output_type": "error",
          "traceback": [
            "\u001b[1;31m---------------------------------------------------------------------------\u001b[0m",
            "\u001b[1;31mTypeError\u001b[0m                                 Traceback (most recent call last)",
            "Cell \u001b[1;32mIn[134], line 3\u001b[0m\n\u001b[0;32m      1\u001b[0m set_4\u001b[38;5;241m=\u001b[39m{\u001b[38;5;241m1\u001b[39m,\u001b[38;5;241m2\u001b[39m,\u001b[38;5;241m3\u001b[39m,\u001b[38;5;241m4\u001b[39m,\u001b[38;5;241m5\u001b[39m,\u001b[38;5;241m7\u001b[39m}\n\u001b[0;32m      2\u001b[0m set_5\u001b[38;5;241m=\u001b[39m{\u001b[38;5;241m5\u001b[39m,\u001b[38;5;241m6\u001b[39m,\u001b[38;5;241m7\u001b[39m,\u001b[38;5;28;01mFalse\u001b[39;00m,\u001b[38;5;241m8\u001b[39m,\u001b[38;5;28;01mTrue\u001b[39;00m,\u001b[38;5;241m10\u001b[39m}\n\u001b[1;32m----> 3\u001b[0m \u001b[38;5;28mprint\u001b[39m(\u001b[43mset_4\u001b[49m\u001b[38;5;241;43m+\u001b[39;49m\u001b[43mset_5\u001b[49m)\n",
            "\u001b[1;31mTypeError\u001b[0m: unsupported operand type(s) for +: 'set' and 'set'"
          ]
        }
      ],
      "source": [
        "set_4={1,2,3,4,5,7}\n",
        "set_5={5,6,7,False,8,True,10}\n",
        "print(set_4+set_5) #cannot add like list"
      ]
    },
    {
      "cell_type": "code",
      "execution_count": null,
      "id": "0c8a2f05",
      "metadata": {
        "id": "0c8a2f05",
        "outputId": "8f93645f-4b22-4d3d-eb27-22b25a46a051"
      },
      "outputs": [
        {
          "name": "stdout",
          "output_type": "stream",
          "text": [
            "{False, 1, 2, 3, 4, 5, 6, 7, 8, 10}\n"
          ]
        }
      ],
      "source": [
        "print(set_4.union(set_5)) #duplicates are removed"
      ]
    },
    {
      "cell_type": "code",
      "execution_count": null,
      "id": "6876fe7a",
      "metadata": {
        "id": "6876fe7a",
        "outputId": "0baa0c6f-52db-4db1-e94f-3e12df123487"
      },
      "outputs": [
        {
          "data": {
            "text/plain": [
              "{1, 5, 7}"
            ]
          },
          "execution_count": 136,
          "metadata": {},
          "output_type": "execute_result"
        }
      ],
      "source": [
        "set_4.intersection(set_5)"
      ]
    },
    {
      "cell_type": "code",
      "execution_count": null,
      "id": "50e69bbe",
      "metadata": {
        "id": "50e69bbe",
        "outputId": "2bfa6fdf-4752-4403-d790-8db3893b2c3b"
      },
      "outputs": [
        {
          "data": {
            "text/plain": [
              "{2, 3, 4}"
            ]
          },
          "execution_count": 137,
          "metadata": {},
          "output_type": "execute_result"
        }
      ],
      "source": [
        "set_4.difference(set_5)#it will print uncommon elements of first set"
      ]
    },
    {
      "cell_type": "code",
      "execution_count": null,
      "id": "1b4c7973",
      "metadata": {
        "id": "1b4c7973",
        "outputId": "4e1402ad-353b-495e-dac0-667a4845912b"
      },
      "outputs": [
        {
          "data": {
            "text/plain": [
              "{False, 6, 8, 10}"
            ]
          },
          "execution_count": 138,
          "metadata": {},
          "output_type": "execute_result"
        }
      ],
      "source": [
        "set_5.difference(set_4)"
      ]
    },
    {
      "cell_type": "code",
      "execution_count": null,
      "id": "1de51b09",
      "metadata": {
        "id": "1de51b09",
        "outputId": "4ee04c1d-e2a0-4064-92af-33174000d9b7"
      },
      "outputs": [
        {
          "name": "stdout",
          "output_type": "stream",
          "text": [
            "{False, 2, 3, 4, 6, 8, 10}\n"
          ]
        }
      ],
      "source": [
        "print(set_4.symmetric_difference(set_5))"
      ]
    },
    {
      "cell_type": "raw",
      "id": "49105b3b",
      "metadata": {
        "id": "49105b3b"
      },
      "source": [
        "prints both set's uncommon elements"
      ]
    },
    {
      "cell_type": "markdown",
      "id": "c195200b",
      "metadata": {
        "id": "c195200b"
      },
      "source": [
        "# Dict(dictionary)"
      ]
    },
    {
      "cell_type": "raw",
      "id": "c69acb2c",
      "metadata": {
        "id": "c69acb2c"
      },
      "source": [
        "syntax\n",
        "dict={key:value,key:value,.......}"
      ]
    },
    {
      "cell_type": "code",
      "execution_count": null,
      "id": "c715262e",
      "metadata": {
        "id": "c715262e",
        "outputId": "2c534d38-1656-44aa-f2e7-2424e9712fd0"
      },
      "outputs": [
        {
          "name": "stdout",
          "output_type": "stream",
          "text": [
            "{'name': 'MinalSonal', 'Age': '22', 'subject': 'Python'}\n"
          ]
        }
      ],
      "source": [
        "dict_profile={'name':'Minal''Sonal','Age':'22','subject':'Python'}\n",
        "print(dict_profile)"
      ]
    },
    {
      "cell_type": "code",
      "execution_count": null,
      "id": "dd0e9404",
      "metadata": {
        "id": "dd0e9404",
        "outputId": "7e061b1f-7981-4c4e-9496-0212438361d1"
      },
      "outputs": [
        {
          "data": {
            "text/plain": [
              "'22'"
            ]
          },
          "execution_count": 141,
          "metadata": {},
          "output_type": "execute_result"
        }
      ],
      "source": [
        "dict_profile['Age']"
      ]
    },
    {
      "cell_type": "code",
      "execution_count": null,
      "id": "c1afd7a9",
      "metadata": {
        "id": "c1afd7a9",
        "outputId": "795c5b23-056e-4809-bd6b-167ac9e1e8d7"
      },
      "outputs": [
        {
          "data": {
            "text/plain": [
              "dict_keys(['name', 'Age', 'subject'])"
            ]
          },
          "execution_count": 142,
          "metadata": {},
          "output_type": "execute_result"
        }
      ],
      "source": [
        "dict_profile.keys()"
      ]
    },
    {
      "cell_type": "code",
      "execution_count": null,
      "id": "90758a96",
      "metadata": {
        "id": "90758a96",
        "outputId": "96ab7ec0-ea01-4e5b-e37a-f2ad92f6814c"
      },
      "outputs": [
        {
          "data": {
            "text/plain": [
              "dict_values(['Minal', '22', 'Python'])"
            ]
          },
          "execution_count": 143,
          "metadata": {},
          "output_type": "execute_result"
        }
      ],
      "source": [
        "dict_profile.values()"
      ]
    },
    {
      "cell_type": "code",
      "execution_count": null,
      "id": "f77d98ee",
      "metadata": {
        "id": "f77d98ee",
        "outputId": "aaa9e905-df39-45df-cfc9-3d25908244bf"
      },
      "outputs": [
        {
          "name": "stdout",
          "output_type": "stream",
          "text": [
            "{'name': 'Shiva', 'Age': '22', 'subject': 'Python'}\n"
          ]
        }
      ],
      "source": [
        "dict_profile={'name':'Minal','Age':'22','subject':'Python','name':'Shiva'}\n",
        "print(dict_profile)"
      ]
    },
    {
      "cell_type": "code",
      "execution_count": null,
      "id": "8c1d5d8d",
      "metadata": {
        "id": "8c1d5d8d"
      },
      "outputs": [],
      "source": [
        "#It override the name value minal with the recent value shiva\n",
        "#i.e. 'name': 'Shiva'"
      ]
    },
    {
      "cell_type": "code",
      "execution_count": null,
      "id": "d60c1f7e",
      "metadata": {
        "id": "d60c1f7e",
        "outputId": "4df45110-d4a1-4972-e599-36e95cce0142"
      },
      "outputs": [
        {
          "name": "stdout",
          "output_type": "stream",
          "text": [
            "{10: 'abc', 2.3: 'rty', True: 'rty', 123: 'tyu'}\n"
          ]
        }
      ],
      "source": [
        "new_dict={10:\"abc\",2.3:'rty',True:'rty',(123):'tyu'}\n",
        "print(new_dict)"
      ]
    },
    {
      "cell_type": "code",
      "execution_count": null,
      "id": "edcfd725",
      "metadata": {
        "id": "edcfd725"
      },
      "outputs": [],
      "source": [
        "dict_profile={'name':'Minal''Sonal','Age':'22','subject':'Python'}\n",
        "dict_profile['name']='Megha'"
      ]
    },
    {
      "cell_type": "code",
      "execution_count": null,
      "id": "974dc41f",
      "metadata": {
        "id": "974dc41f",
        "outputId": "29bbf106-cbd2-4ffc-cdd7-4bca81695013"
      },
      "outputs": [
        {
          "name": "stdout",
          "output_type": "stream",
          "text": [
            "{'name': 'Megha', 'Age': '22', 'subject': 'Python'}\n"
          ]
        }
      ],
      "source": [
        "print(dict_profile)"
      ]
    },
    {
      "cell_type": "code",
      "execution_count": null,
      "id": "0e2d38cc",
      "metadata": {
        "id": "0e2d38cc",
        "outputId": "9fa9eeaf-b1a7-4a36-f356-b178424e29d0"
      },
      "outputs": [
        {
          "name": "stdout",
          "output_type": "stream",
          "text": [
            "{'name': 'Minal', 'Age': '22', 'subject': 'Python'}\n"
          ]
        }
      ],
      "source": [
        "dict_profile={'name':'Minal','Age':'22','subject':'Python'}\n",
        "print(dict_profile)"
      ]
    },
    {
      "cell_type": "code",
      "execution_count": null,
      "id": "567ef2cf",
      "metadata": {
        "id": "567ef2cf",
        "outputId": "3d5e9f19-a0ce-4d69-c9cc-c629e166dca1"
      },
      "outputs": [
        {
          "name": "stdout",
          "output_type": "stream",
          "text": [
            "{'name': 'Minal', 'Age': '22', 'subject': 'Python', 'key1': 'new'}\n"
          ]
        }
      ],
      "source": [
        "dict_profile['key1']='new'\n",
        "print(dict_profile)"
      ]
    },
    {
      "cell_type": "code",
      "execution_count": null,
      "id": "41c72faf",
      "metadata": {
        "id": "41c72faf",
        "outputId": "c791e4b3-8bb0-4afd-e270-81176888cca7"
      },
      "outputs": [
        {
          "name": "stdout",
          "output_type": "stream",
          "text": [
            "{1: [1, 2, 3, 4], 2: (10, 20, 30)}\n"
          ]
        }
      ],
      "source": [
        "dict_up={1:[1,2,3,4], 2:(10,20,30)}\n",
        "print(dict_up)"
      ]
    },
    {
      "cell_type": "code",
      "execution_count": null,
      "id": "1b9b77f1",
      "metadata": {
        "id": "1b9b77f1",
        "outputId": "5b14a5e4-7d6a-4295-dec2-831fd9d02b51"
      },
      "outputs": [
        {
          "name": "stdout",
          "output_type": "stream",
          "text": [
            "None\n"
          ]
        }
      ],
      "source": [
        "print(dict_up.update(dict_profile))\n"
      ]
    },
    {
      "cell_type": "code",
      "execution_count": null,
      "id": "b82597e1",
      "metadata": {
        "id": "b82597e1",
        "outputId": "0a0f3d9d-1319-49ed-81bb-174dbc6c9fa7"
      },
      "outputs": [
        {
          "data": {
            "text/plain": [
              "{1: [1, 2, 3, 4],\n",
              " 2: (10, 20, 30),\n",
              " 'name': 'Minal',\n",
              " 'Age': '22',\n",
              " 'subject': 'Python'}"
            ]
          },
          "execution_count": 23,
          "metadata": {},
          "output_type": "execute_result"
        }
      ],
      "source": [
        "dict_up.update(dict_profile)\n",
        "dict_up"
      ]
    },
    {
      "cell_type": "code",
      "execution_count": null,
      "id": "27e307cd",
      "metadata": {
        "id": "27e307cd",
        "outputId": "5a19237e-dd76-411d-e881-04ef6aa0f003"
      },
      "outputs": [
        {
          "data": {
            "text/plain": [
              "{'name': 'Minal',\n",
              " 'Age': '22',\n",
              " 'subject': 'Python',\n",
              " 1: [1, 2, 3, 4],\n",
              " 2: (10, 20, 30)}"
            ]
          },
          "execution_count": 25,
          "metadata": {},
          "output_type": "execute_result"
        }
      ],
      "source": [
        "dict_profile.update(dict_up)\n",
        "dict_profile"
      ]
    },
    {
      "cell_type": "code",
      "execution_count": null,
      "id": "81ac44e9",
      "metadata": {
        "id": "81ac44e9",
        "outputId": "216f0400-6773-44cd-ef10-8caf5a722e02"
      },
      "outputs": [
        {
          "data": {
            "text/plain": [
              "[1, 2, 3, 4]"
            ]
          },
          "execution_count": 26,
          "metadata": {},
          "output_type": "execute_result"
        }
      ],
      "source": [
        "dict_profile.pop(1)"
      ]
    },
    {
      "cell_type": "code",
      "execution_count": null,
      "id": "f90bc82e",
      "metadata": {
        "id": "f90bc82e",
        "outputId": "1ae67aab-13fc-4c6c-c3af-8c4935c7e3eb"
      },
      "outputs": [
        {
          "data": {
            "text/plain": [
              "'Minal'"
            ]
          },
          "execution_count": 28,
          "metadata": {},
          "output_type": "execute_result"
        }
      ],
      "source": [
        "dict_profile.pop('name')"
      ]
    },
    {
      "cell_type": "markdown",
      "id": "c25712b5",
      "metadata": {
        "id": "c25712b5"
      },
      "source": [
        "#### %b in python"
      ]
    },
    {
      "cell_type": "code",
      "execution_count": null,
      "id": "ef535447",
      "metadata": {
        "id": "ef535447",
        "outputId": "10a31a09-ceaf-4e9e-df4f-9ddb4faef548"
      },
      "outputs": [
        {
          "name": "stdout",
          "output_type": "stream",
          "text": [
            "July 19, 2023\n"
          ]
        }
      ],
      "source": [
        "import datetime\n",
        "\n",
        "today = datetime.datetime.today()\n",
        "print(f\"{today:%B %d, %Y}\")"
      ]
    },
    {
      "cell_type": "markdown",
      "id": "e60f6357",
      "metadata": {
        "id": "e60f6357"
      },
      "source": [
        "### f \"string\""
      ]
    },
    {
      "cell_type": "code",
      "execution_count": null,
      "id": "9f8ec594",
      "metadata": {
        "id": "9f8ec594",
        "outputId": "af0fccbf-1dd5-45c5-e358-75f0241381d7"
      },
      "outputs": [
        {
          "name": "stdout",
          "output_type": "stream",
          "text": [
            "GeeksforGeeks is a portal for Geeks.\n",
            "Hello, My name is Tushar and I'm 23 years old.\n"
          ]
        }
      ],
      "source": [
        "val = 'Geeks'\n",
        "print(f\"{val}for{val} is a portal for {val}.\")\n",
        "\n",
        "\n",
        "name = 'Tushar'\n",
        "age = 23\n",
        "print(f\"Hello, My name is {name} and I'm {age} years old.\")"
      ]
    },
    {
      "cell_type": "code",
      "execution_count": null,
      "id": "1d70ef8c",
      "metadata": {
        "id": "1d70ef8c",
        "outputId": "654d73b9-480f-4617-a74a-f0f981f5499e"
      },
      "outputs": [
        {
          "name": "stdout",
          "output_type": "stream",
          "text": [
            "Set before removing: {2, 4, 6}\n",
            "Set after removing: {4}\n"
          ]
        }
      ],
      "source": [
        "set_1 = set({2, 4, 6})\n",
        "print(f'Set before removing: {set_1}')\n",
        "set_1.remove(2)\n",
        "set_1.remove(6)\n",
        "print(f'Set after removing: {set_1}')"
      ]
    },
    {
      "cell_type": "code",
      "execution_count": null,
      "id": "fce96da1",
      "metadata": {
        "id": "fce96da1",
        "outputId": "f60f7828-632d-4367-d48e-adddbb3e70a8"
      },
      "outputs": [
        {
          "name": "stdout",
          "output_type": "stream",
          "text": [
            "Enter first number6\n",
            "Enter second number7\n",
            "sum is greater than 5: True\n",
            "sum is less than 5: False\n",
            "sum is equal to 5: False\n"
          ]
        }
      ],
      "source": [
        "#Condition Checking:\n",
        "first=int(input(\"Enter first number\"))\n",
        "second=int(input(\"Enter second number\"))\n",
        "sum=first+second\n",
        "print(\"sum is greater than 5:\",sum>5)\n",
        "print(\"sum is less than 5:\",sum<5)\n",
        "print(\"sum is equal to 5:\",sum==5)\n"
      ]
    },
    {
      "cell_type": "code",
      "execution_count": null,
      "id": "87b37efb",
      "metadata": {
        "id": "87b37efb",
        "outputId": "4b8e443b-7175-4155-8ffd-bb5b9a1567c2"
      },
      "outputs": [
        {
          "name": "stdout",
          "output_type": "stream",
          "text": [
            "False\n",
            "True\n",
            "True\n",
            "False\n"
          ]
        }
      ],
      "source": [
        "print (not(True and True))\n",
        "print (True or True)\n",
        "print (not(False and False))\n",
        "print (False and False)"
      ]
    },
    {
      "cell_type": "code",
      "execution_count": null,
      "id": "3c631b6d",
      "metadata": {
        "id": "3c631b6d"
      },
      "outputs": [],
      "source": []
    }
  ],
  "metadata": {
    "kernelspec": {
      "display_name": "Python 3 (ipykernel)",
      "language": "python",
      "name": "python3"
    },
    "language_info": {
      "codemirror_mode": {
        "name": "ipython",
        "version": 3
      },
      "file_extension": ".py",
      "mimetype": "text/x-python",
      "name": "python",
      "nbconvert_exporter": "python",
      "pygments_lexer": "ipython3",
      "version": "3.10.9"
    },
    "colab": {
      "provenance": []
    }
  },
  "nbformat": 4,
  "nbformat_minor": 5
}