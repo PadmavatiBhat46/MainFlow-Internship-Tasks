{
  "nbformat": 4,
  "nbformat_minor": 0,
  "metadata": {
    "colab": {
      "provenance": []
    },
    "kernelspec": {
      "name": "python3",
      "display_name": "Python 3"
    },
    "language_info": {
      "name": "python"
    }
  },
  "cells": [
    {
      "cell_type": "markdown",
      "source": [
        "Data Types"
      ],
      "metadata": {
        "id": "fPMxqtM0RQ_6"
      }
    },
    {
      "cell_type": "code",
      "execution_count": 2,
      "metadata": {
        "colab": {
          "base_uri": "https://localhost:8080/",
          "height": 36
        },
        "id": "7jQRqIl3Q1E8",
        "outputId": "ab1fc9f6-29d0-4bae-ba01-38b9266b29e0"
      },
      "outputs": [
        {
          "output_type": "execute_result",
          "data": {
            "text/plain": [
              "'Bangalore'"
            ],
            "application/vnd.google.colaboratory.intrinsic+json": {
              "type": "string"
            }
          },
          "metadata": {},
          "execution_count": 2
        }
      ],
      "source": [
        "#string\n",
        "my_address = \"Bangalore\"\n",
        "my_address"
      ]
    },
    {
      "cell_type": "code",
      "source": [
        "#integer\n",
        "int_1=-50\n",
        "print(int_1) #print the output"
      ],
      "metadata": {
        "colab": {
          "base_uri": "https://localhost:8080/"
        },
        "id": "JAAdvbYgQ47W",
        "outputId": "6c5af8a7-0c27-4364-bf35-47c74446f200"
      },
      "execution_count": 3,
      "outputs": [
        {
          "output_type": "stream",
          "name": "stdout",
          "text": [
            "-50\n"
          ]
        }
      ]
    },
    {
      "cell_type": "code",
      "source": [
        "print(type(int_1))"
      ],
      "metadata": {
        "colab": {
          "base_uri": "https://localhost:8080/"
        },
        "id": "eCbDSm5IRNuu",
        "outputId": "163692c6-cd4e-4b96-8ca7-97053e7a1ebb"
      },
      "execution_count": 4,
      "outputs": [
        {
          "output_type": "stream",
          "name": "stdout",
          "text": [
            "<class 'int'>\n"
          ]
        }
      ]
    },
    {
      "cell_type": "code",
      "source": [
        "#float/decimal\n",
        "float_1=40.0\n",
        "print(float_1)"
      ],
      "metadata": {
        "colab": {
          "base_uri": "https://localhost:8080/"
        },
        "id": "Z2hLFontRaPZ",
        "outputId": "183e0fbb-2253-4453-e7ae-0980d851ce3c"
      },
      "execution_count": 5,
      "outputs": [
        {
          "output_type": "stream",
          "name": "stdout",
          "text": [
            "40.0\n"
          ]
        }
      ]
    },
    {
      "cell_type": "code",
      "source": [
        "bool_2=True\n",
        "bool_3=False\n",
        "print(bool_2)\n",
        "print(bool_3)"
      ],
      "metadata": {
        "colab": {
          "base_uri": "https://localhost:8080/"
        },
        "id": "TzwfvjOKRd6L",
        "outputId": "2b806571-67b7-4bb3-c392-e09cd8be3f88"
      },
      "execution_count": 6,
      "outputs": [
        {
          "output_type": "stream",
          "name": "stdout",
          "text": [
            "True\n",
            "False\n"
          ]
        }
      ]
    },
    {
      "cell_type": "code",
      "source": [
        "bool_4=\"\" #without space it is empty string\n",
        "print(bool(bool_4))"
      ],
      "metadata": {
        "colab": {
          "base_uri": "https://localhost:8080/"
        },
        "id": "FqP7X-Q0RkzB",
        "outputId": "07a45d58-52b9-45f4-a733-6bfd73367f5d"
      },
      "execution_count": 7,
      "outputs": [
        {
          "output_type": "stream",
          "name": "stdout",
          "text": [
            "False\n"
          ]
        }
      ]
    },
    {
      "cell_type": "markdown",
      "source": [
        "**Non Primitive data types**"
      ],
      "metadata": {
        "id": "hgKfW5uIR0Xk"
      }
    },
    {
      "cell_type": "markdown",
      "source": [
        "List"
      ],
      "metadata": {
        "id": "ycD5hlnNNbmW"
      }
    },
    {
      "cell_type": "code",
      "source": [
        "list_first=[20,30,40.5,False,'apple']\n",
        "print(list_first[4])"
      ],
      "metadata": {
        "colab": {
          "base_uri": "https://localhost:8080/"
        },
        "id": "S9Nlyi9lRrev",
        "outputId": "29f87323-6cc0-43a2-c9e3-f3266ae4dffa"
      },
      "execution_count": 8,
      "outputs": [
        {
          "output_type": "stream",
          "name": "stdout",
          "text": [
            "apple\n"
          ]
        }
      ]
    },
    {
      "cell_type": "code",
      "source": [
        "print(list_first[2])"
      ],
      "metadata": {
        "colab": {
          "base_uri": "https://localhost:8080/"
        },
        "id": "dMoJuEG_SHKY",
        "outputId": "fc23faa3-92fe-40aa-9091-4fc8e675767f"
      },
      "execution_count": 9,
      "outputs": [
        {
          "output_type": "stream",
          "name": "stdout",
          "text": [
            "40.5\n"
          ]
        }
      ]
    },
    {
      "cell_type": "code",
      "source": [
        "#nested list\n",
        "nest= [1,2,3,4,['apple','kiwi','mango'],'abc']\n",
        "print(nest[4][2])"
      ],
      "metadata": {
        "colab": {
          "base_uri": "https://localhost:8080/"
        },
        "id": "t314SkPvSPCL",
        "outputId": "3547b1f9-d78e-4ab1-c90b-677e2d53d01d"
      },
      "execution_count": 10,
      "outputs": [
        {
          "output_type": "stream",
          "name": "stdout",
          "text": [
            "mango\n"
          ]
        }
      ]
    },
    {
      "cell_type": "code",
      "source": [
        "list_2=['basketball','cricket','hockey',30,40,60]\n",
        "list_2[1]='golf'\n",
        "print(list_2)"
      ],
      "metadata": {
        "colab": {
          "base_uri": "https://localhost:8080/"
        },
        "id": "80KP7bUOSYUq",
        "outputId": "69eadb80-d1c4-4a22-dc4d-945de63cec36"
      },
      "execution_count": 11,
      "outputs": [
        {
          "output_type": "stream",
          "name": "stdout",
          "text": [
            "['basketball', 'golf', 'hockey', 30, 40, 60]\n"
          ]
        }
      ]
    },
    {
      "cell_type": "code",
      "source": [
        "list_2.append('football')\n",
        "print(list_2)"
      ],
      "metadata": {
        "colab": {
          "base_uri": "https://localhost:8080/"
        },
        "id": "iQXcaoXKSoMj",
        "outputId": "4dfcf35c-1168-4f87-b9d1-6b527cc7cd7d"
      },
      "execution_count": 12,
      "outputs": [
        {
          "output_type": "stream",
          "name": "stdout",
          "text": [
            "['basketball', 'golf', 'hockey', 30, 40, 60, 'football']\n"
          ]
        }
      ]
    },
    {
      "cell_type": "code",
      "source": [
        "list_2.reverse()\n",
        "print(list_2)"
      ],
      "metadata": {
        "colab": {
          "base_uri": "https://localhost:8080/"
        },
        "id": "SO-PNXtgSrap",
        "outputId": "6fed2a71-fdf3-450f-8c09-9f92be265469"
      },
      "execution_count": 13,
      "outputs": [
        {
          "output_type": "stream",
          "name": "stdout",
          "text": [
            "['football', 60, 40, 30, 'hockey', 'golf', 'basketball']\n"
          ]
        }
      ]
    },
    {
      "cell_type": "code",
      "source": [
        "list_2=['basketball','cricket','hockey',30,40,60]\n",
        "list_2.extend(['badminton','cricket',70])"
      ],
      "metadata": {
        "id": "_NKKU1kgFv0e"
      },
      "execution_count": 14,
      "outputs": []
    },
    {
      "cell_type": "code",
      "source": [
        "list_2"
      ],
      "metadata": {
        "colab": {
          "base_uri": "https://localhost:8080/"
        },
        "id": "r7G5s_tTF5Ko",
        "outputId": "3d9ef19f-69a3-423e-fa57-cf0a5b158749"
      },
      "execution_count": 15,
      "outputs": [
        {
          "output_type": "execute_result",
          "data": {
            "text/plain": [
              "['basketball', 'cricket', 'hockey', 30, 40, 60, 'badminton', 'cricket', 70]"
            ]
          },
          "metadata": {},
          "execution_count": 15
        }
      ]
    },
    {
      "cell_type": "code",
      "source": [
        "list_2.pop() #lsat item\n",
        "print(list_2)"
      ],
      "metadata": {
        "colab": {
          "base_uri": "https://localhost:8080/"
        },
        "id": "NdQvOamXF8KV",
        "outputId": "69105f42-2663-4f18-a541-7f5dec9b9a90"
      },
      "execution_count": 16,
      "outputs": [
        {
          "output_type": "stream",
          "name": "stdout",
          "text": [
            "['basketball', 'cricket', 'hockey', 30, 40, 60, 'badminton', 'cricket']\n"
          ]
        }
      ]
    },
    {
      "cell_type": "code",
      "source": [
        "list_2.pop(1) #particular position\n",
        "print(list_2)"
      ],
      "metadata": {
        "colab": {
          "base_uri": "https://localhost:8080/"
        },
        "id": "n4Ls75e8GEjA",
        "outputId": "1ce064a2-7b0e-4298-f309-b7658908d91d"
      },
      "execution_count": 17,
      "outputs": [
        {
          "output_type": "stream",
          "name": "stdout",
          "text": [
            "['basketball', 'hockey', 30, 40, 60, 'badminton', 'cricket']\n"
          ]
        }
      ]
    },
    {
      "cell_type": "code",
      "source": [
        "list_2=['basketball','cricket','hockey',30,40,60]\n",
        "list_2.insert(2,'golf')\n",
        "print(list_2)"
      ],
      "metadata": {
        "colab": {
          "base_uri": "https://localhost:8080/"
        },
        "id": "m_38nZmVGRRo",
        "outputId": "a9cb3d92-31b8-4c9f-e213-53372c5f364c"
      },
      "execution_count": 18,
      "outputs": [
        {
          "output_type": "stream",
          "name": "stdout",
          "text": [
            "['basketball', 'cricket', 'golf', 'hockey', 30, 40, 60]\n"
          ]
        }
      ]
    },
    {
      "cell_type": "code",
      "source": [
        "list_2.remove('golf')\n",
        "print(list_2)"
      ],
      "metadata": {
        "colab": {
          "base_uri": "https://localhost:8080/"
        },
        "id": "7Yedr-VKGWA0",
        "outputId": "a6e66c82-2729-42ff-8e14-49ca03183786"
      },
      "execution_count": 19,
      "outputs": [
        {
          "output_type": "stream",
          "name": "stdout",
          "text": [
            "['basketball', 'cricket', 'hockey', 30, 40, 60]\n"
          ]
        }
      ]
    },
    {
      "cell_type": "code",
      "source": [
        "#Index\n",
        "list_2=['basketball','cricket','hockey',30,40,60]\n",
        "list_2.index(\"cricket\")"
      ],
      "metadata": {
        "colab": {
          "base_uri": "https://localhost:8080/"
        },
        "id": "5AaR82V4GdwV",
        "outputId": "6318b745-efa7-402e-b630-aef2b676c334"
      },
      "execution_count": 20,
      "outputs": [
        {
          "output_type": "execute_result",
          "data": {
            "text/plain": [
              "1"
            ]
          },
          "metadata": {},
          "execution_count": 20
        }
      ]
    },
    {
      "cell_type": "code",
      "source": [
        "var_1=[100,200,300,1500,800,890,5.6]\n",
        "var_1.sort() #descending\n",
        "print(var_1)"
      ],
      "metadata": {
        "colab": {
          "base_uri": "https://localhost:8080/"
        },
        "id": "Q6oaPcDNGxqg",
        "outputId": "7c54415f-699e-4b75-8d38-625d562d5132"
      },
      "execution_count": 22,
      "outputs": [
        {
          "output_type": "stream",
          "name": "stdout",
          "text": [
            "[5.6, 100, 200, 300, 800, 890, 1500]\n"
          ]
        }
      ]
    },
    {
      "cell_type": "code",
      "source": [
        "list_3=[50,60,78,67]\n",
        "print(list_3)"
      ],
      "metadata": {
        "colab": {
          "base_uri": "https://localhost:8080/"
        },
        "id": "JaZARX8KG8hQ",
        "outputId": "ee689290-9196-4c78-e722-4888e700f976"
      },
      "execution_count": 25,
      "outputs": [
        {
          "output_type": "stream",
          "name": "stdout",
          "text": [
            "[50, 60, 78, 67]\n"
          ]
        }
      ]
    },
    {
      "cell_type": "code",
      "source": [
        "del list_3\n",
        "print(list_3) #list is deleted"
      ],
      "metadata": {
        "colab": {
          "base_uri": "https://localhost:8080/",
          "height": 158
        },
        "id": "DUogmv-vHMY0",
        "outputId": "b09e7dab-699d-4fcf-da10-94cce3963b0e"
      },
      "execution_count": 26,
      "outputs": [
        {
          "output_type": "error",
          "ename": "NameError",
          "evalue": "name 'list_3' is not defined",
          "traceback": [
            "\u001b[0;31m---------------------------------------------------------------------------\u001b[0m",
            "\u001b[0;31mNameError\u001b[0m                                 Traceback (most recent call last)",
            "\u001b[0;32m<ipython-input-26-79055ad1daba>\u001b[0m in \u001b[0;36m<cell line: 2>\u001b[0;34m()\u001b[0m\n\u001b[1;32m      1\u001b[0m \u001b[0;32mdel\u001b[0m \u001b[0mlist_3\u001b[0m\u001b[0;34m\u001b[0m\u001b[0;34m\u001b[0m\u001b[0m\n\u001b[0;32m----> 2\u001b[0;31m \u001b[0mprint\u001b[0m\u001b[0;34m(\u001b[0m\u001b[0mlist_3\u001b[0m\u001b[0;34m)\u001b[0m \u001b[0;31m#list is deleted\u001b[0m\u001b[0;34m\u001b[0m\u001b[0;34m\u001b[0m\u001b[0m\n\u001b[0m",
            "\u001b[0;31mNameError\u001b[0m: name 'list_3' is not defined"
          ]
        }
      ]
    },
    {
      "cell_type": "code",
      "source": [
        "list_10=[1,2,3,4]\n",
        "list_11=[5,6,7,8]\n",
        "print(list_10+list_11)"
      ],
      "metadata": {
        "colab": {
          "base_uri": "https://localhost:8080/"
        },
        "id": "EALjKTiqLQyg",
        "outputId": "e5d2cdd1-0b0d-4f0f-d4d4-e87bf62bf65b"
      },
      "execution_count": 43,
      "outputs": [
        {
          "output_type": "stream",
          "name": "stdout",
          "text": [
            "[1, 2, 3, 4, 5, 6, 7, 8]\n"
          ]
        }
      ]
    },
    {
      "cell_type": "markdown",
      "source": [
        "Tuples\n"
      ],
      "metadata": {
        "id": "77EUIfEwJM1R"
      }
    },
    {
      "cell_type": "code",
      "source": [
        "tuple_1=(1,2.4,'hey there',True,[1,2,3,4])\n",
        "print(tuple_1)"
      ],
      "metadata": {
        "colab": {
          "base_uri": "https://localhost:8080/"
        },
        "id": "6KjVoonQHR4c",
        "outputId": "8676a1d8-492c-4993-b046-d49989f5a032"
      },
      "execution_count": 27,
      "outputs": [
        {
          "output_type": "stream",
          "name": "stdout",
          "text": [
            "(1, 2.4, 'hey there', True, [1, 2, 3, 4])\n"
          ]
        }
      ]
    },
    {
      "cell_type": "code",
      "source": [
        "tuple_2=(1,2,3,4,('h','j','k','l'))#nested tuple\n",
        "print(tuple_2)"
      ],
      "metadata": {
        "colab": {
          "base_uri": "https://localhost:8080/"
        },
        "id": "pK5ahY_rJP5U",
        "outputId": "51a1d4dd-ad20-476a-fabb-15ea3789f952"
      },
      "execution_count": 28,
      "outputs": [
        {
          "output_type": "stream",
          "name": "stdout",
          "text": [
            "(1, 2, 3, 4, ('h', 'j', 'k', 'l'))\n"
          ]
        }
      ]
    },
    {
      "cell_type": "code",
      "source": [
        "tuple_1[2]='banana' #tuples are immutable"
      ],
      "metadata": {
        "colab": {
          "base_uri": "https://localhost:8080/",
          "height": 141
        },
        "id": "Ahu_xLKEJW9V",
        "outputId": "744c0730-1236-4204-9597-817e26b68b41"
      },
      "execution_count": 30,
      "outputs": [
        {
          "output_type": "error",
          "ename": "TypeError",
          "evalue": "'tuple' object does not support item assignment",
          "traceback": [
            "\u001b[0;31m---------------------------------------------------------------------------\u001b[0m",
            "\u001b[0;31mTypeError\u001b[0m                                 Traceback (most recent call last)",
            "\u001b[0;32m<ipython-input-30-e62b02a82345>\u001b[0m in \u001b[0;36m<cell line: 1>\u001b[0;34m()\u001b[0m\n\u001b[0;32m----> 1\u001b[0;31m \u001b[0mtuple_1\u001b[0m\u001b[0;34m[\u001b[0m\u001b[0;36m2\u001b[0m\u001b[0;34m]\u001b[0m\u001b[0;34m=\u001b[0m\u001b[0;34m'banana'\u001b[0m \u001b[0;31m#tuples are immutable\u001b[0m\u001b[0;34m\u001b[0m\u001b[0;34m\u001b[0m\u001b[0m\n\u001b[0m",
            "\u001b[0;31mTypeError\u001b[0m: 'tuple' object does not support item assignment"
          ]
        }
      ]
    },
    {
      "cell_type": "code",
      "source": [
        "x=1,2,3,4.5,67\n",
        "print(type(x))"
      ],
      "metadata": {
        "colab": {
          "base_uri": "https://localhost:8080/"
        },
        "id": "nYe7bIReJf1g",
        "outputId": "bc478d43-468d-4837-c2fa-97e3cfe3e572"
      },
      "execution_count": 31,
      "outputs": [
        {
          "output_type": "stream",
          "name": "stdout",
          "text": [
            "<class 'tuple'>\n"
          ]
        }
      ]
    },
    {
      "cell_type": "code",
      "source": [
        "print(tuple_1[-1][-1])"
      ],
      "metadata": {
        "colab": {
          "base_uri": "https://localhost:8080/"
        },
        "id": "LgT4B-eqJv29",
        "outputId": "addddccf-5fd6-43a0-c01b-01bbae72c951"
      },
      "execution_count": 32,
      "outputs": [
        {
          "output_type": "stream",
          "name": "stdout",
          "text": [
            "4\n"
          ]
        }
      ]
    },
    {
      "cell_type": "code",
      "source": [
        "#Indexing is extracting particular element with the help of index. Slicing is extracting more than one element with the hep of indexing"
      ],
      "metadata": {
        "id": "49cFWhW1J0Ku"
      },
      "execution_count": 33,
      "outputs": []
    },
    {
      "cell_type": "code",
      "source": [
        "print(tuple_1[1:4])"
      ],
      "metadata": {
        "colab": {
          "base_uri": "https://localhost:8080/"
        },
        "id": "jTN5_trPJ74T",
        "outputId": "8120e5dc-999d-475f-bd40-40f4189270ae"
      },
      "execution_count": 34,
      "outputs": [
        {
          "output_type": "stream",
          "name": "stdout",
          "text": [
            "(2.4, 'hey there', True)\n"
          ]
        }
      ]
    },
    {
      "cell_type": "code",
      "source": [
        "#Jumps\n",
        "sports='badminton','basketball','tennis','chess','rugby'\n",
        "print(sports[0: :2])"
      ],
      "metadata": {
        "colab": {
          "base_uri": "https://localhost:8080/"
        },
        "id": "GWWyukcUJ_fY",
        "outputId": "4138f1f0-18e7-4761-e377-11bcaabae4ee"
      },
      "execution_count": 35,
      "outputs": [
        {
          "output_type": "stream",
          "name": "stdout",
          "text": [
            "('badminton', 'tennis', 'rugby')\n"
          ]
        }
      ]
    },
    {
      "cell_type": "code",
      "source": [
        "print(sports[-2:-6:-1]) # reverse/backword direction\n",
        "print(sports[-2: :-1])"
      ],
      "metadata": {
        "colab": {
          "base_uri": "https://localhost:8080/"
        },
        "id": "BYm_DaFOKL_F",
        "outputId": "0cf075c1-1278-4e1d-95ba-c368480e91ac"
      },
      "execution_count": 36,
      "outputs": [
        {
          "output_type": "stream",
          "name": "stdout",
          "text": [
            "('chess', 'tennis', 'basketball', 'badminton')\n",
            "('chess', 'tennis', 'basketball', 'badminton')\n"
          ]
        }
      ]
    },
    {
      "cell_type": "code",
      "source": [
        "print(sorted(sports))# It converts output as list"
      ],
      "metadata": {
        "colab": {
          "base_uri": "https://localhost:8080/"
        },
        "id": "oxJli8DBKWAo",
        "outputId": "fd1dc40e-53e4-44e1-b0ee-e28fe717dee5"
      },
      "execution_count": 37,
      "outputs": [
        {
          "output_type": "stream",
          "name": "stdout",
          "text": [
            "['badminton', 'basketball', 'chess', 'rugby', 'tennis']\n"
          ]
        }
      ]
    },
    {
      "cell_type": "code",
      "source": [
        "x=1,2,3,4.5,67\n",
        "print(sorted(x,reverse=True))"
      ],
      "metadata": {
        "colab": {
          "base_uri": "https://localhost:8080/"
        },
        "id": "SfVCRH2kKbmF",
        "outputId": "51866176-88e4-4b82-9ed2-7d9048fdf781"
      },
      "execution_count": 38,
      "outputs": [
        {
          "output_type": "stream",
          "name": "stdout",
          "text": [
            "[67, 4.5, 3, 2, 1]\n"
          ]
        }
      ]
    },
    {
      "cell_type": "markdown",
      "source": [
        "Set"
      ],
      "metadata": {
        "id": "ChRksv3_Ksn8"
      }
    },
    {
      "cell_type": "code",
      "source": [
        "Set_1={1,4.5,True,'hey there I am set',('h','i','j','k')}\n",
        "print(Set_1)"
      ],
      "metadata": {
        "colab": {
          "base_uri": "https://localhost:8080/"
        },
        "id": "GANZMbBEKgw3",
        "outputId": "2d271366-94b4-414a-ec7d-60ff28bc0ad2"
      },
      "execution_count": 39,
      "outputs": [
        {
          "output_type": "stream",
          "name": "stdout",
          "text": [
            "{1, 4.5, 'hey there I am set', ('h', 'i', 'j', 'k')}\n"
          ]
        }
      ]
    },
    {
      "cell_type": "code",
      "source": [
        "x={} #empty set declaired as dictionary\n",
        "print(type(x))"
      ],
      "metadata": {
        "colab": {
          "base_uri": "https://localhost:8080/"
        },
        "id": "qN5trZ-LKu4m",
        "outputId": "e5f59e2c-6efe-4576-e3eb-96b76f08365b"
      },
      "execution_count": 40,
      "outputs": [
        {
          "output_type": "stream",
          "name": "stdout",
          "text": [
            "<class 'dict'>\n"
          ]
        }
      ]
    },
    {
      "cell_type": "code",
      "source": [
        "set_2={1,2.3,2,2.0,True,False} #it won't print duplicate values.i.e.True and 1 are same\n",
        "print(set_2)"
      ],
      "metadata": {
        "colab": {
          "base_uri": "https://localhost:8080/"
        },
        "id": "9B6S-tjrK14s",
        "outputId": "442dbe1b-5485-4ea9-9169-c64a40e3257a"
      },
      "execution_count": 41,
      "outputs": [
        {
          "output_type": "stream",
          "name": "stdout",
          "text": [
            "{False, 1, 2.3, 2}\n"
          ]
        }
      ]
    },
    {
      "cell_type": "code",
      "source": [
        "set_new={1,2,3,4,5,7} #can add single element\n",
        "set_new.add('wow')\n",
        "print(set_new)"
      ],
      "metadata": {
        "colab": {
          "base_uri": "https://localhost:8080/"
        },
        "id": "LOiFHjM2K9n0",
        "outputId": "bd134ba7-0f28-4d45-bab7-6f312908d09a"
      },
      "execution_count": 42,
      "outputs": [
        {
          "output_type": "stream",
          "name": "stdout",
          "text": [
            "{1, 2, 3, 4, 5, 'wow', 7}\n"
          ]
        }
      ]
    },
    {
      "cell_type": "code",
      "source": [
        "set_4={1,2,3,4,5,7}\n",
        "set_5={5,6,7,False,8,True,10}\n",
        "print(set_4+set_5) #cannot add like list"
      ],
      "metadata": {
        "colab": {
          "base_uri": "https://localhost:8080/",
          "height": 176
        },
        "id": "F2z8Anp1LDq-",
        "outputId": "7fad4bd3-5ddb-4f08-df97-022a339395c2"
      },
      "execution_count": 44,
      "outputs": [
        {
          "output_type": "error",
          "ename": "TypeError",
          "evalue": "unsupported operand type(s) for +: 'set' and 'set'",
          "traceback": [
            "\u001b[0;31m---------------------------------------------------------------------------\u001b[0m",
            "\u001b[0;31mTypeError\u001b[0m                                 Traceback (most recent call last)",
            "\u001b[0;32m<ipython-input-44-7d7cd9227775>\u001b[0m in \u001b[0;36m<cell line: 3>\u001b[0;34m()\u001b[0m\n\u001b[1;32m      1\u001b[0m \u001b[0mset_4\u001b[0m\u001b[0;34m=\u001b[0m\u001b[0;34m{\u001b[0m\u001b[0;36m1\u001b[0m\u001b[0;34m,\u001b[0m\u001b[0;36m2\u001b[0m\u001b[0;34m,\u001b[0m\u001b[0;36m3\u001b[0m\u001b[0;34m,\u001b[0m\u001b[0;36m4\u001b[0m\u001b[0;34m,\u001b[0m\u001b[0;36m5\u001b[0m\u001b[0;34m,\u001b[0m\u001b[0;36m7\u001b[0m\u001b[0;34m}\u001b[0m\u001b[0;34m\u001b[0m\u001b[0;34m\u001b[0m\u001b[0m\n\u001b[1;32m      2\u001b[0m \u001b[0mset_5\u001b[0m\u001b[0;34m=\u001b[0m\u001b[0;34m{\u001b[0m\u001b[0;36m5\u001b[0m\u001b[0;34m,\u001b[0m\u001b[0;36m6\u001b[0m\u001b[0;34m,\u001b[0m\u001b[0;36m7\u001b[0m\u001b[0;34m,\u001b[0m\u001b[0;32mFalse\u001b[0m\u001b[0;34m,\u001b[0m\u001b[0;36m8\u001b[0m\u001b[0;34m,\u001b[0m\u001b[0;32mTrue\u001b[0m\u001b[0;34m,\u001b[0m\u001b[0;36m10\u001b[0m\u001b[0;34m}\u001b[0m\u001b[0;34m\u001b[0m\u001b[0;34m\u001b[0m\u001b[0m\n\u001b[0;32m----> 3\u001b[0;31m \u001b[0mprint\u001b[0m\u001b[0;34m(\u001b[0m\u001b[0mset_4\u001b[0m\u001b[0;34m+\u001b[0m\u001b[0mset_5\u001b[0m\u001b[0;34m)\u001b[0m \u001b[0;31m#cannot add like list\u001b[0m\u001b[0;34m\u001b[0m\u001b[0;34m\u001b[0m\u001b[0m\n\u001b[0m",
            "\u001b[0;31mTypeError\u001b[0m: unsupported operand type(s) for +: 'set' and 'set'"
          ]
        }
      ]
    },
    {
      "cell_type": "code",
      "source": [
        "print(set_4.union(set_5)) #duplicates are removed"
      ],
      "metadata": {
        "colab": {
          "base_uri": "https://localhost:8080/"
        },
        "id": "gAYx9CaRLYcm",
        "outputId": "51ea9b9e-631c-4b1e-c784-22572484aa22"
      },
      "execution_count": 45,
      "outputs": [
        {
          "output_type": "stream",
          "name": "stdout",
          "text": [
            "{False, 1, 2, 3, 4, 5, 6, 7, 8, 10}\n"
          ]
        }
      ]
    },
    {
      "cell_type": "code",
      "source": [
        "set_4.intersection(set_5)"
      ],
      "metadata": {
        "colab": {
          "base_uri": "https://localhost:8080/"
        },
        "id": "B3pXu7swLiiw",
        "outputId": "ab7ac915-7970-4ff5-c4e3-9e90c17d638e"
      },
      "execution_count": 46,
      "outputs": [
        {
          "output_type": "execute_result",
          "data": {
            "text/plain": [
              "{1, 5, 7}"
            ]
          },
          "metadata": {},
          "execution_count": 46
        }
      ]
    },
    {
      "cell_type": "code",
      "source": [
        "set_4.difference(set_5)#it will print uncommon elements of first set"
      ],
      "metadata": {
        "colab": {
          "base_uri": "https://localhost:8080/"
        },
        "id": "MEFiwvX2Ll93",
        "outputId": "079bbb7d-16fb-446d-f755-d897c83c6351"
      },
      "execution_count": 47,
      "outputs": [
        {
          "output_type": "execute_result",
          "data": {
            "text/plain": [
              "{2, 3, 4}"
            ]
          },
          "metadata": {},
          "execution_count": 47
        }
      ]
    },
    {
      "cell_type": "code",
      "source": [
        "print(set_4.symmetric_difference(set_5))"
      ],
      "metadata": {
        "colab": {
          "base_uri": "https://localhost:8080/"
        },
        "id": "1nwht0vFLqPv",
        "outputId": "0c560e76-8c46-4c04-c8cd-da252f739a43"
      },
      "execution_count": 48,
      "outputs": [
        {
          "output_type": "stream",
          "name": "stdout",
          "text": [
            "{False, 2, 3, 4, 6, 8, 10}\n"
          ]
        }
      ]
    },
    {
      "cell_type": "markdown",
      "source": [
        "Dict(dictionary)"
      ],
      "metadata": {
        "id": "EfOQ3yfRL2vb"
      }
    },
    {
      "cell_type": "code",
      "source": [
        "dict_profile={'name':'Minal''Sonal','Age':'22','subject':'Python'}\n",
        "print(dict_profile)"
      ],
      "metadata": {
        "colab": {
          "base_uri": "https://localhost:8080/"
        },
        "id": "QWt_nQUVLynq",
        "outputId": "ed105c23-95f3-41ae-f62b-cc70dd41241e"
      },
      "execution_count": 49,
      "outputs": [
        {
          "output_type": "stream",
          "name": "stdout",
          "text": [
            "{'name': 'MinalSonal', 'Age': '22', 'subject': 'Python'}\n"
          ]
        }
      ]
    },
    {
      "cell_type": "code",
      "source": [
        "dict_profile['Age']"
      ],
      "metadata": {
        "colab": {
          "base_uri": "https://localhost:8080/",
          "height": 36
        },
        "id": "WSlqJ4i-L71c",
        "outputId": "9e51e3e7-d704-499a-c6d1-42d191435159"
      },
      "execution_count": 50,
      "outputs": [
        {
          "output_type": "execute_result",
          "data": {
            "text/plain": [
              "'22'"
            ],
            "application/vnd.google.colaboratory.intrinsic+json": {
              "type": "string"
            }
          },
          "metadata": {},
          "execution_count": 50
        }
      ]
    },
    {
      "cell_type": "code",
      "source": [
        "dict_profile.keys()"
      ],
      "metadata": {
        "colab": {
          "base_uri": "https://localhost:8080/"
        },
        "id": "ZGBSLr8BL_T5",
        "outputId": "fa8bc7f3-a56f-41a8-b7a9-a065a232a40a"
      },
      "execution_count": 51,
      "outputs": [
        {
          "output_type": "execute_result",
          "data": {
            "text/plain": [
              "dict_keys(['name', 'Age', 'subject'])"
            ]
          },
          "metadata": {},
          "execution_count": 51
        }
      ]
    },
    {
      "cell_type": "code",
      "source": [
        "dict_profile.values()"
      ],
      "metadata": {
        "colab": {
          "base_uri": "https://localhost:8080/"
        },
        "id": "dkcEI0u-MCr_",
        "outputId": "c1f6d94a-c061-4ea0-94b9-4e779354b9c9"
      },
      "execution_count": 52,
      "outputs": [
        {
          "output_type": "execute_result",
          "data": {
            "text/plain": [
              "dict_values(['MinalSonal', '22', 'Python'])"
            ]
          },
          "metadata": {},
          "execution_count": 52
        }
      ]
    },
    {
      "cell_type": "code",
      "source": [
        "#It override the name value minal with the recent value shiva\n",
        "#i.e. 'name': 'Shiva'\n",
        "dict_profile={'name':'Minal','Age':'22','subject':'Python','name':'Shiva'}\n",
        "print(dict_profile)"
      ],
      "metadata": {
        "colab": {
          "base_uri": "https://localhost:8080/"
        },
        "id": "tMyvvPdaMFVp",
        "outputId": "6fc3b0b9-60d0-4ee4-b6c9-6a1203226624"
      },
      "execution_count": 53,
      "outputs": [
        {
          "output_type": "stream",
          "name": "stdout",
          "text": [
            "{'name': 'Shiva', 'Age': '22', 'subject': 'Python'}\n"
          ]
        }
      ]
    },
    {
      "cell_type": "code",
      "source": [
        "dict_profile={'name':'Minal''Sonal','Age':'22','subject':'Python'}\n",
        "dict_profile['name']='Megha'\n",
        "print(dict_profile)"
      ],
      "metadata": {
        "colab": {
          "base_uri": "https://localhost:8080/"
        },
        "id": "PG7q2uT4MTU_",
        "outputId": "916713fe-23cc-479a-988e-74dc52936e41"
      },
      "execution_count": 54,
      "outputs": [
        {
          "output_type": "stream",
          "name": "stdout",
          "text": [
            "{'name': 'Megha', 'Age': '22', 'subject': 'Python'}\n"
          ]
        }
      ]
    },
    {
      "cell_type": "code",
      "source": [
        "dict_profile['key1']='new'\n",
        "print(dict_profile)"
      ],
      "metadata": {
        "colab": {
          "base_uri": "https://localhost:8080/"
        },
        "id": "63fNcV0IMmfv",
        "outputId": "98b784d4-437e-4389-f6b2-afcd1230a996"
      },
      "execution_count": 55,
      "outputs": [
        {
          "output_type": "stream",
          "name": "stdout",
          "text": [
            "{'name': 'Megha', 'Age': '22', 'subject': 'Python', 'key1': 'new'}\n"
          ]
        }
      ]
    },
    {
      "cell_type": "code",
      "source": [
        "dict_up={1:[1,2,3,4], 2:(10,20,30)}\n",
        "print(dict_up)"
      ],
      "metadata": {
        "colab": {
          "base_uri": "https://localhost:8080/"
        },
        "id": "ECp7xTdyMzOn",
        "outputId": "744d8e3e-1014-43ac-979d-bded0682d2c7"
      },
      "execution_count": 56,
      "outputs": [
        {
          "output_type": "stream",
          "name": "stdout",
          "text": [
            "{1: [1, 2, 3, 4], 2: (10, 20, 30)}\n"
          ]
        }
      ]
    },
    {
      "cell_type": "code",
      "source": [
        "dict_up.update(dict_profile)\n",
        "print(dict_up)"
      ],
      "metadata": {
        "colab": {
          "base_uri": "https://localhost:8080/"
        },
        "id": "4WzbtdiGM3ts",
        "outputId": "1336896f-dad4-4fa0-bc48-3c1b6bb6dc3f"
      },
      "execution_count": 57,
      "outputs": [
        {
          "output_type": "stream",
          "name": "stdout",
          "text": [
            "{1: [1, 2, 3, 4], 2: (10, 20, 30), 'name': 'Megha', 'Age': '22', 'subject': 'Python', 'key1': 'new'}\n"
          ]
        }
      ]
    },
    {
      "cell_type": "code",
      "source": [
        "dict_profile.pop('name')"
      ],
      "metadata": {
        "colab": {
          "base_uri": "https://localhost:8080/",
          "height": 36
        },
        "id": "3R-mY5PNNFd6",
        "outputId": "726c61d3-da3d-4b52-cfda-3d0ef2bbfff4"
      },
      "execution_count": 58,
      "outputs": [
        {
          "output_type": "execute_result",
          "data": {
            "text/plain": [
              "'Megha'"
            ],
            "application/vnd.google.colaboratory.intrinsic+json": {
              "type": "string"
            }
          },
          "metadata": {},
          "execution_count": 58
        }
      ]
    },
    {
      "cell_type": "code",
      "source": [],
      "metadata": {
        "id": "oHXIWesGNOr-"
      },
      "execution_count": null,
      "outputs": []
    }
  ]
}